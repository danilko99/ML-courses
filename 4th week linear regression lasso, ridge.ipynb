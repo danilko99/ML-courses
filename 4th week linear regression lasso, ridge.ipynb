{
 "cells": [
  {
   "cell_type": "code",
   "execution_count": 9,
   "metadata": {},
   "outputs": [],
   "source": [
    "import pandas as pd\n",
    "from scipy.sparse import hstack\n",
    "from sklearn.linear_model import Ridge\n",
    "from sklearn.feature_extraction import DictVectorizer\n",
    "from sklearn.feature_extraction.text import TfidfVectorizer"
   ]
  },
  {
   "cell_type": "code",
   "execution_count": 5,
   "metadata": {},
   "outputs": [
    {
     "data": {
      "text/html": [
       "<div>\n",
       "<style scoped>\n",
       "    .dataframe tbody tr th:only-of-type {\n",
       "        vertical-align: middle;\n",
       "    }\n",
       "\n",
       "    .dataframe tbody tr th {\n",
       "        vertical-align: top;\n",
       "    }\n",
       "\n",
       "    .dataframe thead th {\n",
       "        text-align: right;\n",
       "    }\n",
       "</style>\n",
       "<table border=\"1\" class=\"dataframe\">\n",
       "  <thead>\n",
       "    <tr style=\"text-align: right;\">\n",
       "      <th></th>\n",
       "      <th>FullDescription</th>\n",
       "      <th>LocationNormalized</th>\n",
       "      <th>ContractTime</th>\n",
       "      <th>SalaryNormalized</th>\n",
       "    </tr>\n",
       "  </thead>\n",
       "  <tbody>\n",
       "    <tr>\n",
       "      <th>0</th>\n",
       "      <td>International Sales Manager London ****k  ****...</td>\n",
       "      <td>London</td>\n",
       "      <td>permanent</td>\n",
       "      <td>33000</td>\n",
       "    </tr>\n",
       "    <tr>\n",
       "      <th>1</th>\n",
       "      <td>An ideal opportunity for an individual that ha...</td>\n",
       "      <td>London</td>\n",
       "      <td>permanent</td>\n",
       "      <td>50000</td>\n",
       "    </tr>\n",
       "    <tr>\n",
       "      <th>2</th>\n",
       "      <td>Online Content and Brand Manager// Luxury Reta...</td>\n",
       "      <td>South East London</td>\n",
       "      <td>permanent</td>\n",
       "      <td>40000</td>\n",
       "    </tr>\n",
       "    <tr>\n",
       "      <th>3</th>\n",
       "      <td>A great local marketleader is seeking a perman...</td>\n",
       "      <td>Dereham</td>\n",
       "      <td>permanent</td>\n",
       "      <td>22500</td>\n",
       "    </tr>\n",
       "    <tr>\n",
       "      <th>4</th>\n",
       "      <td>Registered Nurse / RGN  Nursing Home for Young...</td>\n",
       "      <td>Sutton Coldfield</td>\n",
       "      <td>NaN</td>\n",
       "      <td>20355</td>\n",
       "    </tr>\n",
       "  </tbody>\n",
       "</table>\n",
       "</div>"
      ],
      "text/plain": [
       "                                     FullDescription LocationNormalized  \\\n",
       "0  International Sales Manager London ****k  ****...             London   \n",
       "1  An ideal opportunity for an individual that ha...             London   \n",
       "2  Online Content and Brand Manager// Luxury Reta...  South East London   \n",
       "3  A great local marketleader is seeking a perman...            Dereham   \n",
       "4  Registered Nurse / RGN  Nursing Home for Young...   Sutton Coldfield   \n",
       "\n",
       "  ContractTime  SalaryNormalized  \n",
       "0    permanent             33000  \n",
       "1    permanent             50000  \n",
       "2    permanent             40000  \n",
       "3    permanent             22500  \n",
       "4          NaN             20355  "
      ]
     },
     "execution_count": 5,
     "metadata": {},
     "output_type": "execute_result"
    }
   ],
   "source": [
    "data = pd.read_csv(\"salary-train.csv\")\n",
    "data.head()"
   ]
  },
  {
   "cell_type": "code",
   "execution_count": 14,
   "metadata": {},
   "outputs": [],
   "source": [
    "def text_transform(text: pd.Series) -> pd.Series:\n",
    "    return text.str.lower().replace(\"[^a-zA-Z0-9]\", \" \", regex=True)"
   ]
  },
  {
   "cell_type": "code",
   "execution_count": 7,
   "metadata": {},
   "outputs": [
    {
     "data": {
      "text/html": [
       "<div>\n",
       "<style scoped>\n",
       "    .dataframe tbody tr th:only-of-type {\n",
       "        vertical-align: middle;\n",
       "    }\n",
       "\n",
       "    .dataframe tbody tr th {\n",
       "        vertical-align: top;\n",
       "    }\n",
       "\n",
       "    .dataframe thead th {\n",
       "        text-align: right;\n",
       "    }\n",
       "</style>\n",
       "<table border=\"1\" class=\"dataframe\">\n",
       "  <thead>\n",
       "    <tr style=\"text-align: right;\">\n",
       "      <th></th>\n",
       "      <th>FullDescription</th>\n",
       "      <th>LocationNormalized</th>\n",
       "      <th>ContractTime</th>\n",
       "      <th>SalaryNormalized</th>\n",
       "    </tr>\n",
       "  </thead>\n",
       "  <tbody>\n",
       "    <tr>\n",
       "      <th>0</th>\n",
       "      <td>International Sales Manager London ****k  ****...</td>\n",
       "      <td>London</td>\n",
       "      <td>permanent</td>\n",
       "      <td>33000</td>\n",
       "    </tr>\n",
       "    <tr>\n",
       "      <th>1</th>\n",
       "      <td>An ideal opportunity for an individual that ha...</td>\n",
       "      <td>London</td>\n",
       "      <td>permanent</td>\n",
       "      <td>50000</td>\n",
       "    </tr>\n",
       "    <tr>\n",
       "      <th>2</th>\n",
       "      <td>Online Content and Brand Manager// Luxury Reta...</td>\n",
       "      <td>South East London</td>\n",
       "      <td>permanent</td>\n",
       "      <td>40000</td>\n",
       "    </tr>\n",
       "    <tr>\n",
       "      <th>3</th>\n",
       "      <td>A great local marketleader is seeking a perman...</td>\n",
       "      <td>Dereham</td>\n",
       "      <td>permanent</td>\n",
       "      <td>22500</td>\n",
       "    </tr>\n",
       "    <tr>\n",
       "      <th>4</th>\n",
       "      <td>Registered Nurse / RGN  Nursing Home for Young...</td>\n",
       "      <td>Sutton Coldfield</td>\n",
       "      <td>NaN</td>\n",
       "      <td>20355</td>\n",
       "    </tr>\n",
       "  </tbody>\n",
       "</table>\n",
       "</div>"
      ],
      "text/plain": [
       "                                     FullDescription LocationNormalized  \\\n",
       "0  International Sales Manager London ****k  ****...             London   \n",
       "1  An ideal opportunity for an individual that ha...             London   \n",
       "2  Online Content and Brand Manager// Luxury Reta...  South East London   \n",
       "3  A great local marketleader is seeking a perman...            Dereham   \n",
       "4  Registered Nurse / RGN  Nursing Home for Young...   Sutton Coldfield   \n",
       "\n",
       "  ContractTime  SalaryNormalized  \n",
       "0    permanent             33000  \n",
       "1    permanent             50000  \n",
       "2    permanent             40000  \n",
       "3    permanent             22500  \n",
       "4          NaN             20355  "
      ]
     },
     "execution_count": 7,
     "metadata": {},
     "output_type": "execute_result"
    }
   ],
   "source": [
    "data.head()"
   ]
  },
  {
   "cell_type": "code",
   "execution_count": 19,
   "metadata": {},
   "outputs": [],
   "source": [
    "vectorizer = TfidfVectorizer(min_df = 5)\n",
    "X_train_text = vectorizer.fit_transform(text_transform(data[\"FullDescription\"]))"
   ]
  },
  {
   "cell_type": "code",
   "execution_count": 17,
   "metadata": {},
   "outputs": [],
   "source": [
    "data['LocationNormalized'].fillna('nan', inplace=True)\n",
    "data['ContractTime'].fillna('nan', inplace=True)"
   ]
  },
  {
   "cell_type": "code",
   "execution_count": 28,
   "metadata": {},
   "outputs": [],
   "source": [
    "dic =  DictVectorizer()\n",
    "X_train_dic = dic.fit_transform(data[[\"LocationNormalized\", \"ContractTime\"]].to_dict(\"records\"))"
   ]
  },
  {
   "cell_type": "code",
   "execution_count": 32,
   "metadata": {},
   "outputs": [],
   "source": [
    "X_train = hstack([X_train_text, X_train_dic])"
   ]
  },
  {
   "cell_type": "code",
   "execution_count": 34,
   "metadata": {},
   "outputs": [],
   "source": [
    "y_train = data[\"SalaryNormalized\"]"
   ]
  },
  {
   "cell_type": "code",
   "execution_count": 35,
   "metadata": {},
   "outputs": [
    {
     "data": {
      "text/plain": [
       "Ridge(alpha=1, copy_X=True, fit_intercept=True, max_iter=None,\n",
       "   normalize=False, random_state=241, solver='auto', tol=0.001)"
      ]
     },
     "execution_count": 35,
     "metadata": {},
     "output_type": "execute_result"
    }
   ],
   "source": [
    "lnr = Ridge(alpha = 1, random_state = 241)\n",
    "lnr.fit(X_train, y_train)"
   ]
  },
  {
   "cell_type": "code",
   "execution_count": 37,
   "metadata": {},
   "outputs": [],
   "source": [
    "data_test = pd.read_csv(\"salary-test-mini.csv\")"
   ]
  },
  {
   "cell_type": "code",
   "execution_count": 38,
   "metadata": {},
   "outputs": [
    {
     "data": {
      "text/html": [
       "<div>\n",
       "<style scoped>\n",
       "    .dataframe tbody tr th:only-of-type {\n",
       "        vertical-align: middle;\n",
       "    }\n",
       "\n",
       "    .dataframe tbody tr th {\n",
       "        vertical-align: top;\n",
       "    }\n",
       "\n",
       "    .dataframe thead th {\n",
       "        text-align: right;\n",
       "    }\n",
       "</style>\n",
       "<table border=\"1\" class=\"dataframe\">\n",
       "  <thead>\n",
       "    <tr style=\"text-align: right;\">\n",
       "      <th></th>\n",
       "      <th>FullDescription</th>\n",
       "      <th>LocationNormalized</th>\n",
       "      <th>ContractTime</th>\n",
       "      <th>SalaryNormalized</th>\n",
       "    </tr>\n",
       "  </thead>\n",
       "  <tbody>\n",
       "    <tr>\n",
       "      <th>0</th>\n",
       "      <td>We currently have a vacancy for an HR Project ...</td>\n",
       "      <td>Milton Keynes</td>\n",
       "      <td>contract</td>\n",
       "      <td>NaN</td>\n",
       "    </tr>\n",
       "    <tr>\n",
       "      <th>1</th>\n",
       "      <td>A Web developer opportunity has arisen with an...</td>\n",
       "      <td>Manchester</td>\n",
       "      <td>permanent</td>\n",
       "      <td>NaN</td>\n",
       "    </tr>\n",
       "  </tbody>\n",
       "</table>\n",
       "</div>"
      ],
      "text/plain": [
       "                                     FullDescription LocationNormalized  \\\n",
       "0  We currently have a vacancy for an HR Project ...      Milton Keynes   \n",
       "1  A Web developer opportunity has arisen with an...         Manchester   \n",
       "\n",
       "  ContractTime  SalaryNormalized  \n",
       "0     contract               NaN  \n",
       "1    permanent               NaN  "
      ]
     },
     "execution_count": 38,
     "metadata": {},
     "output_type": "execute_result"
    }
   ],
   "source": [
    "data_test"
   ]
  },
  {
   "cell_type": "code",
   "execution_count": 43,
   "metadata": {},
   "outputs": [],
   "source": [
    "X_text_test = vectorizer.transform(text_transform(data_test[\"FullDescription\"]))\n",
    "X_dic_test = dic.transform(data_test[[\"LocationNormalized\",\"ContractTime\"]].to_dict(\"records\"))\n",
    "X_test = hstack([X_text_test, X_dic_test])"
   ]
  },
  {
   "cell_type": "code",
   "execution_count": 44,
   "metadata": {},
   "outputs": [],
   "source": [
    "y_test = lnr.predict(X_test)"
   ]
  },
  {
   "cell_type": "code",
   "execution_count": 46,
   "metadata": {},
   "outputs": [
    {
     "name": "stdout",
     "output_type": "stream",
     "text": [
      "56555.62\n",
      "37188.32\n"
     ]
    }
   ],
   "source": [
    "for i in y_test:\n",
    "    print(\"%.2f\" % i)"
   ]
  },
  {
   "cell_type": "code",
   "execution_count": 52,
   "metadata": {},
   "outputs": [
    {
     "data": {
      "text/html": [
       "<div>\n",
       "<style scoped>\n",
       "    .dataframe tbody tr th:only-of-type {\n",
       "        vertical-align: middle;\n",
       "    }\n",
       "\n",
       "    .dataframe tbody tr th {\n",
       "        vertical-align: top;\n",
       "    }\n",
       "\n",
       "    .dataframe thead th {\n",
       "        text-align: right;\n",
       "    }\n",
       "</style>\n",
       "<table border=\"1\" class=\"dataframe\">\n",
       "  <thead>\n",
       "    <tr style=\"text-align: right;\">\n",
       "      <th></th>\n",
       "      <th>date</th>\n",
       "      <th>AXP</th>\n",
       "      <th>BA</th>\n",
       "      <th>CAT</th>\n",
       "      <th>CSCO</th>\n",
       "      <th>CVX</th>\n",
       "      <th>DD</th>\n",
       "      <th>DIS</th>\n",
       "      <th>GE</th>\n",
       "      <th>GS</th>\n",
       "      <th>...</th>\n",
       "      <th>PFE</th>\n",
       "      <th>PG</th>\n",
       "      <th>T</th>\n",
       "      <th>TRV</th>\n",
       "      <th>UNH</th>\n",
       "      <th>UTX</th>\n",
       "      <th>V</th>\n",
       "      <th>VZ</th>\n",
       "      <th>WMT</th>\n",
       "      <th>XOM</th>\n",
       "    </tr>\n",
       "  </thead>\n",
       "  <tbody>\n",
       "    <tr>\n",
       "      <th>0</th>\n",
       "      <td>2013-09-23</td>\n",
       "      <td>76.440002</td>\n",
       "      <td>117.510002</td>\n",
       "      <td>85.029999</td>\n",
       "      <td>24.270000</td>\n",
       "      <td>125.519997</td>\n",
       "      <td>59.409999</td>\n",
       "      <td>64.750000</td>\n",
       "      <td>24.280001</td>\n",
       "      <td>165.250000</td>\n",
       "      <td>...</td>\n",
       "      <td>28.799999</td>\n",
       "      <td>79.279999</td>\n",
       "      <td>34.220001</td>\n",
       "      <td>86.379997</td>\n",
       "      <td>71.820000</td>\n",
       "      <td>109.419998</td>\n",
       "      <td>196.240005</td>\n",
       "      <td>47.980000</td>\n",
       "      <td>76.419998</td>\n",
       "      <td>87.750000</td>\n",
       "    </tr>\n",
       "    <tr>\n",
       "      <th>1</th>\n",
       "      <td>2013-09-24</td>\n",
       "      <td>76.070000</td>\n",
       "      <td>119.000000</td>\n",
       "      <td>85.110001</td>\n",
       "      <td>24.139999</td>\n",
       "      <td>124.489998</td>\n",
       "      <td>59.319997</td>\n",
       "      <td>64.320000</td>\n",
       "      <td>24.320000</td>\n",
       "      <td>162.970001</td>\n",
       "      <td>...</td>\n",
       "      <td>28.709999</td>\n",
       "      <td>78.620003</td>\n",
       "      <td>34.090000</td>\n",
       "      <td>85.870003</td>\n",
       "      <td>72.320000</td>\n",
       "      <td>110.000000</td>\n",
       "      <td>193.339996</td>\n",
       "      <td>47.270000</td>\n",
       "      <td>75.750000</td>\n",
       "      <td>87.360001</td>\n",
       "    </tr>\n",
       "    <tr>\n",
       "      <th>2</th>\n",
       "      <td>2013-09-25</td>\n",
       "      <td>75.989998</td>\n",
       "      <td>118.510002</td>\n",
       "      <td>84.500000</td>\n",
       "      <td>24.430000</td>\n",
       "      <td>124.070000</td>\n",
       "      <td>59.319997</td>\n",
       "      <td>64.449997</td>\n",
       "      <td>24.230000</td>\n",
       "      <td>162.309998</td>\n",
       "      <td>...</td>\n",
       "      <td>28.490000</td>\n",
       "      <td>77.720001</td>\n",
       "      <td>34.049999</td>\n",
       "      <td>85.980003</td>\n",
       "      <td>71.980003</td>\n",
       "      <td>109.260002</td>\n",
       "      <td>191.559998</td>\n",
       "      <td>46.950001</td>\n",
       "      <td>74.650002</td>\n",
       "      <td>87.139999</td>\n",
       "    </tr>\n",
       "    <tr>\n",
       "      <th>3</th>\n",
       "      <td>2013-09-26</td>\n",
       "      <td>76.320000</td>\n",
       "      <td>119.379997</td>\n",
       "      <td>84.199997</td>\n",
       "      <td>23.770000</td>\n",
       "      <td>123.489998</td>\n",
       "      <td>59.509996</td>\n",
       "      <td>65.239998</td>\n",
       "      <td>24.250000</td>\n",
       "      <td>162.289993</td>\n",
       "      <td>...</td>\n",
       "      <td>28.520000</td>\n",
       "      <td>78.050003</td>\n",
       "      <td>34.230000</td>\n",
       "      <td>85.830002</td>\n",
       "      <td>72.160004</td>\n",
       "      <td>109.660004</td>\n",
       "      <td>193.559998</td>\n",
       "      <td>47.669998</td>\n",
       "      <td>74.620003</td>\n",
       "      <td>87.070000</td>\n",
       "    </tr>\n",
       "    <tr>\n",
       "      <th>4</th>\n",
       "      <td>2013-09-27</td>\n",
       "      <td>75.889999</td>\n",
       "      <td>118.739998</td>\n",
       "      <td>83.800003</td>\n",
       "      <td>23.330000</td>\n",
       "      <td>122.639999</td>\n",
       "      <td>59.009995</td>\n",
       "      <td>65.190002</td>\n",
       "      <td>24.049999</td>\n",
       "      <td>159.850006</td>\n",
       "      <td>...</td>\n",
       "      <td>28.879999</td>\n",
       "      <td>77.209999</td>\n",
       "      <td>33.980000</td>\n",
       "      <td>85.410004</td>\n",
       "      <td>71.989998</td>\n",
       "      <td>109.360001</td>\n",
       "      <td>193.050003</td>\n",
       "      <td>47.000000</td>\n",
       "      <td>74.360001</td>\n",
       "      <td>86.900002</td>\n",
       "    </tr>\n",
       "  </tbody>\n",
       "</table>\n",
       "<p>5 rows × 31 columns</p>\n",
       "</div>"
      ],
      "text/plain": [
       "         date        AXP          BA        CAT       CSCO         CVX  \\\n",
       "0  2013-09-23  76.440002  117.510002  85.029999  24.270000  125.519997   \n",
       "1  2013-09-24  76.070000  119.000000  85.110001  24.139999  124.489998   \n",
       "2  2013-09-25  75.989998  118.510002  84.500000  24.430000  124.070000   \n",
       "3  2013-09-26  76.320000  119.379997  84.199997  23.770000  123.489998   \n",
       "4  2013-09-27  75.889999  118.739998  83.800003  23.330000  122.639999   \n",
       "\n",
       "          DD        DIS         GE          GS    ...            PFE  \\\n",
       "0  59.409999  64.750000  24.280001  165.250000    ...      28.799999   \n",
       "1  59.319997  64.320000  24.320000  162.970001    ...      28.709999   \n",
       "2  59.319997  64.449997  24.230000  162.309998    ...      28.490000   \n",
       "3  59.509996  65.239998  24.250000  162.289993    ...      28.520000   \n",
       "4  59.009995  65.190002  24.049999  159.850006    ...      28.879999   \n",
       "\n",
       "          PG          T        TRV        UNH         UTX           V  \\\n",
       "0  79.279999  34.220001  86.379997  71.820000  109.419998  196.240005   \n",
       "1  78.620003  34.090000  85.870003  72.320000  110.000000  193.339996   \n",
       "2  77.720001  34.049999  85.980003  71.980003  109.260002  191.559998   \n",
       "3  78.050003  34.230000  85.830002  72.160004  109.660004  193.559998   \n",
       "4  77.209999  33.980000  85.410004  71.989998  109.360001  193.050003   \n",
       "\n",
       "          VZ        WMT        XOM  \n",
       "0  47.980000  76.419998  87.750000  \n",
       "1  47.270000  75.750000  87.360001  \n",
       "2  46.950001  74.650002  87.139999  \n",
       "3  47.669998  74.620003  87.070000  \n",
       "4  47.000000  74.360001  86.900002  \n",
       "\n",
       "[5 rows x 31 columns]"
      ]
     },
     "execution_count": 52,
     "metadata": {},
     "output_type": "execute_result"
    }
   ],
   "source": [
    "from sklearn.decomposition import PCA\n",
    "data = pd.read_csv(\"close_prices.csv\")\n",
    "data.head()"
   ]
  },
  {
   "cell_type": "code",
   "execution_count": 53,
   "metadata": {},
   "outputs": [],
   "source": [
    "pc = PCA(n_components = 10)"
   ]
  },
  {
   "cell_type": "code",
   "execution_count": 58,
   "metadata": {},
   "outputs": [
    {
     "data": {
      "text/plain": [
       "PCA(copy=True, iterated_power='auto', n_components=10, random_state=None,\n",
       "  svd_solver='auto', tol=0.0, whiten=False)"
      ]
     },
     "execution_count": 58,
     "metadata": {},
     "output_type": "execute_result"
    }
   ],
   "source": [
    "X = data.iloc[:, 1:]\n",
    "pc.fit(X)"
   ]
  },
  {
   "cell_type": "code",
   "execution_count": 61,
   "metadata": {},
   "outputs": [
    {
     "data": {
      "text/plain": [
       "array([0.73897118, 0.11007169, 0.04995088, 0.0287492 , 0.02215448,\n",
       "       0.01931577, 0.00674853, 0.00614091, 0.00320594, 0.00305611])"
      ]
     },
     "execution_count": 61,
     "metadata": {},
     "output_type": "execute_result"
    }
   ],
   "source": [
    "sum_var = 0\n",
    "for i, v in enumerate(pc.explained_variance_ratio_):\n",
    "    sum_var += v\n",
    "    if sum_var >= 0.9:\n",
    "        break\n",
    "pc.explained_variance_ratio_    "
   ]
  },
  {
   "cell_type": "code",
   "execution_count": 87,
   "metadata": {},
   "outputs": [
    {
     "name": "stdout",
     "output_type": "stream",
     "text": [
      "4\n"
     ]
    }
   ],
   "source": [
    "print(i+1)"
   ]
  },
  {
   "cell_type": "markdown",
   "metadata": {},
   "source": [
    "\n",
    "На осях написаны проценты объяснённой дисперсии – эти числа показывают, какая доля общего разброса точек приходится на каждую из новых координат.\n"
   ]
  },
  {
   "cell_type": "code",
   "execution_count": 64,
   "metadata": {},
   "outputs": [
    {
     "data": {
      "text/plain": [
       "0   -50.902404\n",
       "1   -52.846909\n",
       "2   -54.614439\n",
       "3   -52.600566\n",
       "4   -52.370123\n",
       "Name: 0, dtype: float64"
      ]
     },
     "execution_count": 64,
     "metadata": {},
     "output_type": "execute_result"
    }
   ],
   "source": [
    "X0 = pd.DataFrame(pc.transform(X))[0]\n",
    "X0.head()"
   ]
  },
  {
   "cell_type": "code",
   "execution_count": 65,
   "metadata": {},
   "outputs": [
    {
     "data": {
      "text/html": [
       "<div>\n",
       "<style scoped>\n",
       "    .dataframe tbody tr th:only-of-type {\n",
       "        vertical-align: middle;\n",
       "    }\n",
       "\n",
       "    .dataframe tbody tr th {\n",
       "        vertical-align: top;\n",
       "    }\n",
       "\n",
       "    .dataframe thead th {\n",
       "        text-align: right;\n",
       "    }\n",
       "</style>\n",
       "<table border=\"1\" class=\"dataframe\">\n",
       "  <thead>\n",
       "    <tr style=\"text-align: right;\">\n",
       "      <th></th>\n",
       "      <th>date</th>\n",
       "      <th>^DJI</th>\n",
       "    </tr>\n",
       "  </thead>\n",
       "  <tbody>\n",
       "    <tr>\n",
       "      <th>0</th>\n",
       "      <td>2013-09-23</td>\n",
       "      <td>15401.379883</td>\n",
       "    </tr>\n",
       "    <tr>\n",
       "      <th>1</th>\n",
       "      <td>2013-09-24</td>\n",
       "      <td>15334.589844</td>\n",
       "    </tr>\n",
       "    <tr>\n",
       "      <th>2</th>\n",
       "      <td>2013-09-25</td>\n",
       "      <td>15273.259766</td>\n",
       "    </tr>\n",
       "    <tr>\n",
       "      <th>3</th>\n",
       "      <td>2013-09-26</td>\n",
       "      <td>15328.299805</td>\n",
       "    </tr>\n",
       "    <tr>\n",
       "      <th>4</th>\n",
       "      <td>2013-09-27</td>\n",
       "      <td>15258.240234</td>\n",
       "    </tr>\n",
       "  </tbody>\n",
       "</table>\n",
       "</div>"
      ],
      "text/plain": [
       "         date          ^DJI\n",
       "0  2013-09-23  15401.379883\n",
       "1  2013-09-24  15334.589844\n",
       "2  2013-09-25  15273.259766\n",
       "3  2013-09-26  15328.299805\n",
       "4  2013-09-27  15258.240234"
      ]
     },
     "execution_count": 65,
     "metadata": {},
     "output_type": "execute_result"
    }
   ],
   "source": [
    "indexes = pd.read_csv(\"djia_index.csv\")\n",
    "indexes.head()"
   ]
  },
  {
   "cell_type": "code",
   "execution_count": 66,
   "metadata": {},
   "outputs": [],
   "source": [
    "import numpy as np"
   ]
  },
  {
   "cell_type": "code",
   "execution_count": 69,
   "metadata": {},
   "outputs": [
    {
     "data": {
      "text/plain": [
       "array([[1.        , 0.90965222],\n",
       "       [0.90965222, 1.        ]])"
      ]
     },
     "execution_count": 69,
     "metadata": {},
     "output_type": "execute_result"
    }
   ],
   "source": [
    "corr = np.corrcoef(X0, indexes[\"^DJI\"])\n",
    "corr"
   ]
  },
  {
   "cell_type": "code",
   "execution_count": 72,
   "metadata": {},
   "outputs": [
    {
     "name": "stdout",
     "output_type": "stream",
     "text": [
      "0.91\n"
     ]
    }
   ],
   "source": [
    "print(\"%.2f\" % corr[0][1])"
   ]
  },
  {
   "cell_type": "code",
   "execution_count": 85,
   "metadata": {},
   "outputs": [
    {
     "data": {
      "text/plain": [
       "'CVX'"
      ]
     },
     "execution_count": 85,
     "metadata": {},
     "output_type": "execute_result"
    }
   ],
   "source": [
    "X.columns[4]"
   ]
  },
  {
   "cell_type": "code",
   "execution_count": 83,
   "metadata": {},
   "outputs": [
    {
     "data": {
      "text/plain": [
       "'V'"
      ]
     },
     "execution_count": 83,
     "metadata": {},
     "output_type": "execute_result"
    }
   ],
   "source": [
    "X.columns[np.argmax(pc.components_[0])]"
   ]
  },
  {
   "cell_type": "code",
   "execution_count": null,
   "metadata": {},
   "outputs": [],
   "source": []
  }
 ],
 "metadata": {
  "kernelspec": {
   "display_name": "Python 3",
   "language": "python",
   "name": "python3"
  },
  "language_info": {
   "codemirror_mode": {
    "name": "ipython",
    "version": 3
   },
   "file_extension": ".py",
   "mimetype": "text/x-python",
   "name": "python",
   "nbconvert_exporter": "python",
   "pygments_lexer": "ipython3",
   "version": "3.7.1"
  }
 },
 "nbformat": 4,
 "nbformat_minor": 2
}
