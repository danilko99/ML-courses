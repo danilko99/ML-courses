{
 "cells": [
  {
   "cell_type": "markdown",
   "metadata": {
    "colab_type": "text",
    "id": "T9i1GpgZn1z2"
   },
   "source": [
    "# ДЗ1 - имитационное обучение\n",
    "Крайний срок сдачи - 20.02.2019 23:59."
   ]
  },
  {
   "cell_type": "markdown",
   "metadata": {
    "colab_type": "text",
    "id": "jrcNPMhXn1z5"
   },
   "source": [
    "***\n",
    "Задача будет заключаться в том, чтобы провести эксперименты с имитационным обучением: смотреть, что такое клонирование поведеня и разобраться с алгоритмом DAgger.\n",
    "Вместо человека-демонстранта демонстрации будут даваться специальной предобученной \"экспертной\" стартегией. Ваша задача будет заключаться в реализации алгоритма клонирования и DAgger, сравнения их произвоодительости на нескольких простых задачах управления из пакета OpenAI Gym. Ваше решение в виде Jupyter тетрадки *с комментариями* нужно загрузить по [ссылке](https://www.dropbox.com/request/uNq18mDY284JdI7o5KgJ) с шаблоном имени \"Фамилия>\\_ИАД<номер группы>.ipynb\", например Панов_ИАД1.ipynb. Указывать ту группу, которую вы посещаете на семинарах.\n",
    "\n",
    "__Будьте винимательны!__ В заготовках кода ниже могут быть неточности! Их правка входит в задачу выполнения ДЗ! Как минимум, вам нужно дописывать строчик кода ниже пометок __Ваш код здесь__."
   ]
  },
  {
   "cell_type": "markdown",
   "metadata": {
    "colab_type": "text",
    "id": "eczg5Vpyn1z6"
   },
   "source": [
    "## Требования:\n",
    "### 1. __TensorFlow:__\n",
    "Инструкции-напоминания по установке здесь - https://www.tensorflow.org/get_started/os_setup. GPU не будет требоваться для выполнения ДЗ.\n",
    "### 2. __OpenAI Gym:__  \n",
    "Напоминание-инструкции по OpenAI Gym - https://gym.openai.com/docs. Используйте версию 0.10.5.\n",
    "### 3. __MuJoCo:__<br>\n",
    "Будем использовать набор симуляционных сред MuJoCo.  Загружайте версию 1.50 с http://mujoco.org/,  и версию  1.50.1.56  с https://github.com/openai/mujoco-py/. Для активации доступа можно испоьзовать ваше университетский аккаунт -  https://www.roboti.us/license.html.\n",
    "***"
   ]
  },
  {
   "cell_type": "code",
   "execution_count": 1,
   "metadata": {},
   "outputs": [],
   "source": [
    "# ! which pip"
   ]
  },
  {
   "cell_type": "code",
   "execution_count": 2,
   "metadata": {},
   "outputs": [],
   "source": [
    "# ! pip install glfw\n",
    "# ! pip install -U 'mujoco-py<1.50.2,>=1.50.1'"
   ]
  },
  {
   "cell_type": "markdown",
   "metadata": {
    "colab_type": "text",
    "id": "olS1NKp_n1z7"
   },
   "source": [
    "Импортируем все необходимое:"
   ]
  },
  {
   "cell_type": "code",
   "execution_count": 1,
   "metadata": {
    "colab": {
     "base_uri": "https://localhost:8080/",
     "height": 377
    },
    "colab_type": "code",
    "id": "KsCbY_u8n1z9",
    "outputId": "b390688a-9b7a-4693-99be-9e5fa39eff78"
   },
   "outputs": [
    {
     "name": "stdout",
     "output_type": "stream",
     "text": [
      "TensorFlow version : 1.13.1\n",
      "Gym version : 0.10.5\n"
     ]
    }
   ],
   "source": [
    "import os\n",
    "import pickle\n",
    "import tensorflow as tf\n",
    "print(\"TensorFlow version :\",tf.__version__)\n",
    "\n",
    "import numpy as np\n",
    "import tf_util\n",
    "\n",
    "import gym\n",
    "print(\"Gym version :\",gym.__version__)\n",
    "\n",
    "import glfw\n",
    "import load_policy\n",
    "\n",
    "import matplotlib.pyplot as plt"
   ]
  },
  {
   "cell_type": "markdown",
   "metadata": {
    "colab_type": "text",
    "id": "9twX-rbGn10C"
   },
   "source": [
    "***\n",
    "## Сборием статистику"
   ]
  },
  {
   "cell_type": "markdown",
   "metadata": {
    "colab_type": "text",
    "id": "NCb0VmnGn10D"
   },
   "source": [
    " Генерируем статистику (roll-outs) по заданной экспертной стратегии в 3 шага:\n",
    " 1. Загружаем стратегию из файла и инициализируем окружение.\n",
    " 2. Начинаем сессию tensorflow.\n",
    " 3. В рамках сессии собираем данные: до конца эпизода в цикле выбираем экспертное действие, применяем его и сохраняем результаты."
   ]
  },
  {
   "cell_type": "code",
   "execution_count": 2,
   "metadata": {},
   "outputs": [],
   "source": [
    "### Для удобства переиспользования весь приведенный код я переоформил в функции\n",
    "\n",
    "\n",
    "\n",
    "#choose environment (Uncomment choosed one)\n",
    "# env_name=\"Humanoid-v2\"\n",
    "# env_name=\"Ant-v2\"\n",
    "# env_name=\"HalfCheetah-v2\"\n",
    "#env_name=\"Hopper-v2\"\n",
    "#env_name=\"Reacher-v2\"\n",
    "#env_name=\"Walker2d-v2\""
   ]
  },
  {
   "cell_type": "code",
   "execution_count": 3,
   "metadata": {
    "colab": {},
    "colab_type": "code",
    "id": "BcnfLQpCn10F",
    "scrolled": true
   },
   "outputs": [],
   "source": [
    "# # choose expert policy file from /expert file\n",
    "# expert_policy_file=\"experts/\"+env_name+\".pkl\"\n",
    "\n",
    "# # load the policy\n",
    "# print('loading and building expert policy')\n",
    "# policy_fn = load_policy.load_policy(expert_policy_file)\n",
    "# print('loaded and built')\n",
    "\n",
    "# # make the environment\n",
    "# env = gym.make(env_name)\n",
    "\n",
    "# function to generate rollouts from the expert policies \n",
    "def generate_rollouts(num_rollouts,max_steps,env,policy_fn,render=False):\n",
    "    \n",
    "    # initialize tensoflow session (tf stuff)\n",
    "    with tf.Session():\n",
    "        tf_util.initialize()\n",
    "\n",
    "        # collect rollouts\n",
    "        # firstly, define the arrays\n",
    "        returns = []\n",
    "        observations = []\n",
    "        actions = []\n",
    "\n",
    "        # loop to collect data\n",
    "        for i in range(num_rollouts):\n",
    "            #number of iteration (episode)\n",
    "            #print('iter', i)\n",
    "            # parameters to initial values\n",
    "            obs = env.reset()\n",
    "            done = False\n",
    "            totalr = 0.\n",
    "            steps = 0\n",
    "            # loop until the end of the episode\n",
    "            while not done:\n",
    "                # choose an action depending on the observation\n",
    "                action = policy_fn(obs[None,:])\n",
    "                # append sample to arrays\n",
    "                observations.append(obs)\n",
    "                actions.append(action)\n",
    "                # apply the action on the environment\n",
    "                obs, r, done, _ = env.step(action)\n",
    "                # calculate the total reward\n",
    "                totalr += r\n",
    "                steps += 1\n",
    "                # render the environment\n",
    "                if render==True:\n",
    "                    env.render()\n",
    "                #if steps % 100 == 0: print(\"%i/%i\"%(steps, max_steps))\n",
    "                if steps >= max_steps:\n",
    "                    break\n",
    "            # append the total reward\n",
    "            returns.append(totalr)\n",
    "        \n",
    "        # print the reward information\n",
    "        #print('returns', returns)\n",
    "        print('mean return', np.mean(returns))\n",
    "        print('std of return', np.std(returns))\n",
    "\n",
    "        expert_data = {'observations': np.array(observations),'actions': np.array(actions)}\n",
    "            \n",
    "        return expert_data"
   ]
  },
  {
   "cell_type": "markdown",
   "metadata": {
    "colab_type": "text",
    "id": "mn0AYWzHn10I"
   },
   "source": [
    "Тестируем реализованную функцию: num_rollouts=4,max_steps=100,render=True"
   ]
  },
  {
   "cell_type": "markdown",
   "metadata": {
    "colab_type": "text",
    "id": "jKzfFNgnn10J"
   },
   "source": [
    "Notes:\n",
    "- If the camera doesn't track the agent, prss __Tab__ to change the viewpoint\n",
    "- In some cases the jupyter notebok kernel will crash if you close the rendering window, __don't close the windows until finishing the execution of the whole notebook.__"
   ]
  },
  {
   "cell_type": "code",
   "execution_count": 4,
   "metadata": {
    "colab": {},
    "colab_type": "code",
    "id": "Tazgf8kin10K"
   },
   "outputs": [],
   "source": [
    "# generate_rollouts(num_rollouts=4,max_steps=100,render=True);"
   ]
  },
  {
   "cell_type": "markdown",
   "metadata": {
    "colab_type": "text",
    "id": "X1CN7PQqn10O"
   },
   "source": [
    "***\n",
    "## 1. Клонирование поведения"
   ]
  },
  {
   "cell_type": "markdown",
   "metadata": {
    "colab_type": "text",
    "id": "OMY41AFrn10P"
   },
   "source": [
    "Клонирование поведения (Behavioural cloning, BC) - метод, с помощью когорого компьютерная программа обучается воспроизводить действия эксперта (человека). Действия эксперта записываются, а затем эта статистика используется как входные данные для алгоритма обучения. Этот алгоритм в результате формирует последовательность действий, по которым воспроизводится поведение эксперта."
   ]
  },
  {
   "cell_type": "markdown",
   "metadata": {
    "colab_type": "text",
    "id": "IAvMe3Len10Q"
   },
   "source": [
    "Будем использовать стандартное обучение с учителем и использовать нейронную сеть для этого."
   ]
  },
  {
   "cell_type": "markdown",
   "metadata": {
    "colab_type": "text",
    "id": "iSEGvwFxn10S"
   },
   "source": [
    "Кроме конструктора, вам нужно дореализовать метод __train__ класса __BC_Model__:"
   ]
  },
  {
   "cell_type": "code",
   "execution_count": 5,
   "metadata": {},
   "outputs": [],
   "source": [
    "# ! pip install -U scikit-learn scipy matplotlib"
   ]
  },
  {
   "cell_type": "code",
   "execution_count": 6,
   "metadata": {
    "colab": {},
    "colab_type": "code",
    "id": "JPwPk9rmn10T"
   },
   "outputs": [],
   "source": [
    "from sklearn.utils import shuffle\n",
    "\n",
    "class BC_Model(object):\n",
    "    def __init__(self, input_data, output_data, batch_size = 64):\n",
    "        \n",
    "        # define tensorflow session\n",
    "        self.sess = tf.Session()\n",
    "        # input and output data , and their shapes\n",
    "        self.batch_size = batch_size\n",
    "        self.input_data = input_data\n",
    "        self.output_data = np.reshape(output_data, (output_data.shape[0], output_data.shape[2]))\n",
    "        self.input_shape = [self.batch_size, self.input_data.shape[-1]]\n",
    "        self.output_shape = [self.batch_size, self.output_data.shape[-1]]\n",
    "        \n",
    "        # placeholders for the neural network (input, model output and the expert output)\n",
    "        self.input_placeholder = tf.placeholder(tf.float32, shape = self.input_shape)\n",
    "        self.output_placeholder_expert = tf.placeholder(tf.float32, shape = self.output_shape)\n",
    "        self.output_placeholder_model = self.build_model(self.input_placeholder)\n",
    "        \n",
    "        # the loss function Mean squared error, (L2 stands for Least Square Errors)\n",
    "        \n",
    "        ### функция потерь l2_loss\n",
    "        self.loss = tf.reduce_mean(tf.nn.l2_loss(self.output_placeholder_expert - self.output_placeholder_model))\n",
    "\n",
    "    def build_model(self, input_placeholder):\n",
    "        # build the neural network  (you can try another architecture)\n",
    "        ### архитектура НС\n",
    "        x = tf.layers.dense(input_placeholder, 64, activation = tf.nn.tanh)\n",
    "        x = tf.layers.dense(x, 32, activation = tf.nn.tanh)\n",
    "        x = tf.layers.dense(x, self.output_shape[-1])\n",
    "        return x\n",
    "\n",
    "    def train(self, epochs = 20, train_data = None, test_data = None):\n",
    "        # check train and test data\n",
    "        if train_data is None and test_data is None :\n",
    "            # split the input data to train and test if test and train data are not given\n",
    "            train_data, test_data = shuffle(self.input_data, self.output_data, random_state = 0)\n",
    "        else:\n",
    "            #reshape test data\n",
    "            test_data = np.reshape(test_data, (test_data.shape[0], test_data.shape[2]))\n",
    "        \n",
    "        # using Adam optimizer\n",
    "        optimizer = tf.train.AdamOptimizer().minimize(self.loss)\n",
    "        # define a saver\n",
    "        saver = tf.train.Saver()\n",
    "        \n",
    "        # number of batches\n",
    "        batch_idxs = len(train_data) // self.batch_size\n",
    "\n",
    "        # define a writer ()\n",
    "        writer = tf.summary.FileWriter(\"exp\")\n",
    "        \n",
    "        # add the graph (The model and all the variables) to the writer\n",
    "        writer.add_graph(self.sess.graph)\n",
    "\n",
    "        #initialize network variables\n",
    "        init_op = tf.global_variables_initializer()\n",
    "        self.sess.run(init_op)\n",
    "\n",
    "        #loop over epochs\n",
    "        for epoch in range(epochs):\n",
    "            #for each epoch loop over batches\n",
    "            for idx in range(batch_idxs):\n",
    "                # take a batch from training and test data\n",
    "                batch_train = train_data[idx * self.batch_size : (idx + 1) * self.batch_size]\n",
    "                batch_value = test_data[idx * self.batch_size : (idx + 1) * self.batch_size]\n",
    "                # run the optimizer to reduce the loss (we train the model to give us the same output for specific input)\n",
    "                feed_train = {self.input_placeholder : batch_train, self.output_placeholder_expert : batch_value}\n",
    "                self.sess.run(optimizer, feed_dict = feed_train)\n",
    "                    \n",
    "        # save the model\n",
    "        saver.save(self.sess, \"exp\" + \"/behavior_cloning_model\")\n",
    "\n",
    "    def sample(self, input):\n",
    "        #sample an action for a specified input\n",
    "        output = self.sess.run(self.output_placeholder_model, feed_dict = {self.input_placeholder : np.repeat(input[None, :], self.batch_size, axis = 0)})\n",
    "        return output[0]"
   ]
  },
  {
   "cell_type": "markdown",
   "metadata": {
    "colab_type": "text",
    "id": "GY-ExTddn10Y"
   },
   "source": [
    "### Обучем модель на экспертных данных"
   ]
  },
  {
   "cell_type": "code",
   "execution_count": 7,
   "metadata": {
    "colab": {},
    "colab_type": "code",
    "id": "0BX9F_m3n10Z"
   },
   "outputs": [],
   "source": [
    "def generate_data_and_train_model(eps,envr,p_fn):\n",
    "    # generate expert data\n",
    "    data=generate_rollouts(num_rollouts=20,max_steps=100,env = envr,policy_fn=p_fn,render=False);\n",
    "    x = data['observations']\n",
    "    y = data['actions']\n",
    "    print ('dimension of obs :', x.shape)\n",
    "    print('dimension of actions :', y.shape)\n",
    "\n",
    "    # shuffle data\n",
    "    x,y = shuffle(x,y)\n",
    "\n",
    "    # create an object from BC_Model class, and train it\n",
    "    cloner=BC_Model(x,y)\n",
    "    cloner.train(epochs = eps)\n",
    "    return cloner"
   ]
  },
  {
   "cell_type": "markdown",
   "metadata": {
    "colab_type": "text",
    "id": "fqgv_s9wn10d"
   },
   "source": [
    "### Испытываем модель"
   ]
  },
  {
   "cell_type": "code",
   "execution_count": 8,
   "metadata": {
    "colab": {},
    "colab_type": "code",
    "id": "wTZxb3KCn10f"
   },
   "outputs": [],
   "source": [
    "def use_model(env, policy_fn, epochs = 20):\n",
    "    cloner = generate_data_and_train_model(eps = epochs, envr = env, p_fn = policy_fn)\n",
    "    num_eval_rollouts=20\n",
    "    # loop over runouts\n",
    "    returns=[]\n",
    "    for i in range(num_eval_rollouts):\n",
    "        # reset variables in each iteration\n",
    "        totalr=0\n",
    "        done=False\n",
    "        obs=env.reset()\n",
    "        # loop until the end of the episode\n",
    "        while not done:\n",
    "            # get an action from the trained model (output for specific observation as input)\n",
    "            action=cloner.sample(obs)\n",
    "            # implement the action\n",
    "            obs,r,done,_=env.step(action)\n",
    "            env.render()\n",
    "            totalr+=r\n",
    "        returns.append(totalr)\n",
    "    print('mean return', np.mean(returns))\n",
    "    print('std of return', np.std(returns))\n",
    "    return (range(num_eval_rollouts), returns, np.mean(returns), np.std(returns))"
   ]
  },
  {
   "cell_type": "code",
   "execution_count": 9,
   "metadata": {},
   "outputs": [],
   "source": [
    "def apply_env(file_name):\n",
    "    env_name=file_name\n",
    "    expert_policy_file=\"experts/\"+env_name+\".pkl\"\n",
    "    print('loading and building expert policy')\n",
    "    policy_fn = load_policy.load_policy(expert_policy_file)\n",
    "    print('loaded and built')\n",
    "    env = gym.make(env_name)\n",
    "    return (env, policy_fn)"
   ]
  },
  {
   "cell_type": "markdown",
   "metadata": {
    "colab_type": "text",
    "id": "4LfdYmI4n10j"
   },
   "source": [
    "__Задание 1.1.__ Вам необходимо обучить модель на любых трех окружениях MoJoCo. Построить графики отдачи (totalr) в зависимости от количества набранной статистики (num_rollouts) для обучения."
   ]
  },
  {
   "cell_type": "code",
   "execution_count": 10,
   "metadata": {},
   "outputs": [
    {
     "name": "stdout",
     "output_type": "stream",
     "text": [
      "loading and building expert policy\n",
      "obs (1, 376) (1, 376)\n",
      "loaded and built\n",
      "WARNING:tensorflow:From /home/agney/my_project_dir/tf_util.py:90: all_variables (from tensorflow.python.ops.variables) is deprecated and will be removed after 2017-03-02.\n",
      "Instructions for updating:\n",
      "Please use tf.global_variables instead.\n",
      "WARNING:tensorflow:From /home/agney/.local/lib/python3.6/site-packages/tensorflow/python/util/tf_should_use.py:189: initialize_variables (from tensorflow.python.ops.variables) is deprecated and will be removed after 2017-03-02.\n",
      "Instructions for updating:\n",
      "Use `tf.variables_initializer` instead.\n",
      "mean return 643.1263095288716\n",
      "std of return 11.210325464854488\n",
      "dimension of obs : (2000, 376)\n",
      "dimension of actions : (2000, 1, 17)\n",
      "Creating window glfw\n",
      "mean return 351.53082355480745\n",
      "std of return 76.54317095140311\n"
     ]
    },
    {
     "data": {
      "image/png": "[encoded data removed]",
      "text/plain": [
       "<Figure size 432x288 with 1 Axes>"
      ]
     },
     "metadata": {
      "needs_background": "light"
     },
     "output_type": "display_data"
    },
    {
     "name": "stdout",
     "output_type": "stream",
     "text": [
      "loading and building expert policy\n",
      "obs (1, 11) (1, 11)\n",
      "loaded and built\n",
      "mean return -4.588576890409587\n",
      "std of return 1.966419712378684\n",
      "dimension of obs : (1000, 11)\n",
      "dimension of actions : (1000, 1, 2)\n",
      "Creating window glfw\n",
      "mean return -14.04097386078261\n",
      "std of return 3.205155590992587\n"
     ]
    },
    {
     "data": {
      "image/png": "[encoded data removed]",
      "text/plain": [
       "<Figure size 432x288 with 1 Axes>"
      ]
     },
     "metadata": {
      "needs_background": "light"
     },
     "output_type": "display_data"
    },
    {
     "name": "stdout",
     "output_type": "stream",
     "text": [
      "loading and building expert policy\n",
      "obs (1, 11) (1, 11)\n",
      "loaded and built\n",
      "mean return 227.9763564315753\n",
      "std of return 0.5355696818181896\n",
      "dimension of obs : (2000, 11)\n",
      "dimension of actions : (2000, 1, 3)\n",
      "Creating window glfw\n",
      "mean return 281.29328491373934\n",
      "std of return 37.21353500420784\n"
     ]
    },
    {
     "data": {
      "image/png": "[encoded data removed]",
      "text/plain": [
       "<Figure size 432x288 with 1 Axes>"
      ]
     },
     "metadata": {
      "needs_background": "light"
     },
     "output_type": "display_data"
    }
   ],
   "source": [
    "#Графики отдачи в зависимости от количества набранной статистики для обучения для окружений \n",
    "#Humanoid-v2, Reacher-v2 и Hopper-v2\n",
    "\n",
    "env_name1 = \"Humanoid-v2\"\n",
    "env_var1 = apply_env(env_name1)\n",
    "results1 = use_model(env = env_var1[0], policy_fn = env_var1[1])\n",
    "plt.title(env_name1)\n",
    "plt.ylabel(\"totalr\")\n",
    "plt.xlabel(\"num_rollouts\")\n",
    "plt.plot(results1[0], results1[1])\n",
    "plt.show()\n",
    "#\n",
    "env_name2 = \"Reacher-v2\"\n",
    "env_var2 = apply_env(env_name2)\n",
    "results2 = use_model(env = env_var2[0], policy_fn = env_var2[1])\n",
    "plt.title(env_name2)\n",
    "plt.ylabel(\"totalr\")\n",
    "plt.xlabel(\"num_rollouts\")\n",
    "plt.plot(results2[0], results2[1])\n",
    "plt.show()\n",
    "#\n",
    "env_name3 = \"Hopper-v2\"\n",
    "env_var3 = apply_env(env_name3)\n",
    "results3 = use_model(env = env_var3[0], policy_fn = env_var3[1])\n",
    "plt.title(env_name3)\n",
    "plt.ylabel(\"totalr\")\n",
    "plt.xlabel(\"num_rollouts\")\n",
    "plt.plot(results3[0], results3[1])\n",
    "plt.show()"
   ]
  },
  {
   "cell_type": "code",
   "execution_count": null,
   "metadata": {},
   "outputs": [],
   "source": [
    "# По построенным графикам четкой зависимости между параметром отдачи и колличеством набранной статистики \n",
    "# не прослеживается. Все графики имеют множество локальных минимумов и локальных максимумов на рассматриваемом \n",
    "# промежутке num_rollouts [1, 20]"
   ]
  },
  {
   "cell_type": "markdown",
   "metadata": {
    "colab_type": "text",
    "id": "RPiPzQqin10k"
   },
   "source": [
    "__Задание 1.2.__ Выберите один из гиперапараметров вашей модели, которые влияют на качество обучения (количество эпох, количество слоев и т.п.). Для одного из окружений постройте график влияния значения этого параметра на качество обучения (totalr)."
   ]
  },
  {
   "cell_type": "code",
   "execution_count": 11,
   "metadata": {},
   "outputs": [
    {
     "name": "stdout",
     "output_type": "stream",
     "text": [
      "loading and building expert policy\n",
      "obs (1, 376) (1, 376)\n",
      "loaded and built\n",
      "mean return 643.6841454790027\n",
      "std of return 7.836143282051434\n",
      "dimension of obs : (2000, 376)\n",
      "dimension of actions : (2000, 1, 17)\n",
      "Creating window glfw\n",
      "mean return 347.4408370020697\n",
      "std of return 170.40327885633508\n",
      "mean return 642.3209391755024\n",
      "std of return 6.910686490986363\n",
      "dimension of obs : (2000, 376)\n",
      "dimension of actions : (2000, 1, 17)\n",
      "mean return 244.695007465743\n",
      "std of return 46.83233267333896\n",
      "mean return 643.2380529586073\n",
      "std of return 8.66872104189602\n",
      "dimension of obs : (2000, 376)\n",
      "dimension of actions : (2000, 1, 17)\n",
      "mean return 221.74554131023632\n",
      "std of return 48.225386469790074\n",
      "mean return 639.7610138480719\n",
      "std of return 9.825319122716266\n",
      "dimension of obs : (2000, 376)\n",
      "dimension of actions : (2000, 1, 17)\n",
      "mean return 205.3170299839152\n",
      "std of return 23.415332947570256\n",
      "mean return 638.9419727944336\n",
      "std of return 8.360968959009988\n",
      "dimension of obs : (2000, 376)\n",
      "dimension of actions : (2000, 1, 17)\n",
      "mean return 227.2470294023003\n",
      "std of return 25.650261968825816\n",
      "mean return 642.6033025815386\n",
      "std of return 9.201964442155381\n",
      "dimension of obs : (2000, 376)\n",
      "dimension of actions : (2000, 1, 17)\n",
      "mean return 235.13128839254946\n",
      "std of return 39.614558520270975\n",
      "mean return 637.689078144122\n",
      "std of return 9.87645070348766\n",
      "dimension of obs : (2000, 376)\n",
      "dimension of actions : (2000, 1, 17)\n",
      "mean return 339.13367580300616\n",
      "std of return 68.34566583532407\n",
      "mean return 641.5341603267618\n",
      "std of return 9.77495276653833\n",
      "dimension of obs : (2000, 376)\n",
      "dimension of actions : (2000, 1, 17)\n",
      "mean return 321.2614559767377\n",
      "std of return 96.41267051522416\n"
     ]
    },
    {
     "data": {
      "image/png": "[encoded data removed]",
      "text/plain": [
       "<Figure size 432x288 with 1 Axes>"
      ]
     },
     "metadata": {
      "needs_background": "light"
     },
     "output_type": "display_data"
    },
    {
     "data": {
      "image/png": "[encoded data removed]",
      "text/plain": [
       "<Figure size 432x288 with 1 Axes>"
      ]
     },
     "metadata": {
      "needs_background": "light"
     },
     "output_type": "display_data"
    }
   ],
   "source": [
    "# Графики влияния гиперпараметра (количества эпох при обучении) на качество обучения \n",
    "#(среднее значение отдач и стандартное отклонение) для окружения \"Humanoid-v2\"\n",
    "\n",
    "env_name = \"Humanoid-v2\"\n",
    "env_var = apply_env(env_name)\n",
    "means = []\n",
    "stds = []\n",
    "\n",
    "# Список количества эпох обучения модели\n",
    "ep_list = [2, 4, 6, 8, 10, 15, 20, 30]\n",
    "for i in ep_list:\n",
    "    results = use_model(env = env_var[0], policy_fn = env_var[1], epochs = i)\n",
    "    means.append(results[2])\n",
    "    stds.append(results[3])\n",
    "    \n",
    "# Зависимость: Среднее значение (от количества эпох обучения)  \n",
    "plt.title(env_name)\n",
    "plt.ylabel(\"Mean\")\n",
    "plt.xlabel(\"Number of epochs\")\n",
    "plt.plot(ep_list, means)\n",
    "plt.show()\n",
    "\n",
    "# Зависимость: Стандартное отклонение (от количества эпох обучения)\n",
    "plt.title(env_name)\n",
    "plt.ylabel(\"Std\")\n",
    "plt.xlabel(\"Number of epochs\")\n",
    "plt.plot(ep_list, stds)\n",
    "plt.show()"
   ]
  },
  {
   "cell_type": "code",
   "execution_count": null,
   "metadata": {},
   "outputs": [],
   "source": [
    "# На рассматриваемом промежутке как среднее значение параметра качества обучения, так и его стандартное отклонение\n",
    "# достигли своего минимума при количестве эпох = 8. \n",
    "# На интервале [1; 8] оба графика убывают, а далее - оба возрастают"
   ]
  },
  {
   "cell_type": "markdown",
   "metadata": {
    "colab_type": "text",
    "id": "Ot7D6XXnn10l"
   },
   "source": [
    "***\n",
    "## 2. DAgger Algorithm"
   ]
  },
  {
   "cell_type": "markdown",
   "metadata": {
    "colab_type": "text",
    "id": "_mcjIw2-n10n"
   },
   "source": [
    "Цель алгоритма DAgger (data Aggregation) - собрать статистику обучаемой модели, вместо экспертных данных. \n",
    "- Вначале мы тренируем BC_Model на собранных экспертных данных.\n",
    "- Запускаем модель на окружениие, собираем наблюдения.\n",
    "- Затем мы просим эксперта (человека) отметить, какие действия нужно совершать в полученных наблюдениях (по сути используем __policy_fn__).\n",
    "- Создаем новую коллекцию помеченных и экспертных данных.\n",
    "- Потворяем."
   ]
  },
  {
   "cell_type": "markdown",
   "metadata": {
    "colab_type": "text",
    "id": "nvEFHTD7n10o"
   },
   "source": [
    "![image.png](attachment:image.png)"
   ]
  },
  {
   "cell_type": "code",
   "execution_count": 12,
   "metadata": {
    "colab": {},
    "colab_type": "code",
    "id": "1-tZ4OHKn10p"
   },
   "outputs": [],
   "source": [
    "def gen_data_use_model(env_name):\n",
    "    env_var = apply_env(env_name)\n",
    "    env = env_var[0]\n",
    "    policy_fn = env_var[1]\n",
    "\n",
    "    # generate expert data\n",
    "    data=generate_rollouts(num_rollouts=20,max_steps=100,render=False,env=env,policy_fn=policy_fn);\n",
    "    x = data['observations']\n",
    "    y = data['actions']\n",
    "    print ('dimension of obs :', x.shape)\n",
    "    print('dimension of actions :', y.shape)\n",
    "\n",
    "    # shuffle data\n",
    "    x,y = shuffle(x,y)\n",
    "\n",
    "    # create an object from BC_Model class, and train it\n",
    "    cloner=BC_Model(x,y)\n",
    "    cloner.train()\n",
    "\n",
    "    with tf.Session():\n",
    "        DAgger_iter=30\n",
    "        render=False\n",
    "        # DAgger loop\n",
    "        for i in range(DAgger_iter):\n",
    "            # reset in each iteration\n",
    "            new_obs = []\n",
    "            new_actions = []\n",
    "            obs = env.reset()\n",
    "            done = False\n",
    "            # collect data from model and expert\n",
    "            while not done:\n",
    "                # get an action from the model\n",
    "                \n",
    "                ### Использование обученной модели\n",
    "                action = cloner.sample(obs)\n",
    "            \n",
    "                obs, _, done, _ = env.step(action)\n",
    "                if render:\n",
    "                    env.render()\n",
    "                # get the expert action for the same input\n",
    "                \n",
    "                corrected_action = policy_fn(obs[None, :])\n",
    "            \n",
    "                # append the observation and expert action to the data set\n",
    "                new_obs.append(obs)\n",
    "                new_actions.append(corrected_action)\n",
    "            # re-order the data\n",
    "            x = np.concatenate((x, obs[None, :]), axis = 0)\n",
    "            y = np.concatenate((y, corrected_action[None, :]), axis = 0)\n",
    "            # train the model on the collected data\n",
    "            \n",
    "            cloner.train(train_data = np.array(new_obs), test_data = np.array(new_actions))\n",
    "    return (env, cloner)"
   ]
  },
  {
   "cell_type": "markdown",
   "metadata": {
    "colab_type": "text",
    "id": "daH40wnYn10r"
   },
   "source": [
    "### Проверяем работу"
   ]
  },
  {
   "cell_type": "code",
   "execution_count": 13,
   "metadata": {
    "colab": {},
    "colab_type": "code",
    "id": "-fT64yYrn10s"
   },
   "outputs": [],
   "source": [
    "def check_work_draw(env, cloner):\n",
    "    num_eval_rollouts=20\n",
    "    # loop over runouts\n",
    "    returns=[]\n",
    "    for i in range(num_eval_rollouts):\n",
    "        # reset variables in each iteration\n",
    "        totalr=0\n",
    "        done=False\n",
    "        obs=env.reset()\n",
    "        # loop until the end of the episode\n",
    "        while not done:\n",
    "            # get an action from the trained model (output for specific observation as input)\n",
    "            action=cloner.sample(obs)\n",
    "            # implement the action\n",
    "            obs,r,done,_=env.step(action)\n",
    "            env.render()\n",
    "            totalr+=r\n",
    "        returns.append(totalr)\n",
    "    print('mean return', np.mean(returns))\n",
    "    print('std of return', np.std(returns))\n",
    "    return returns"
   ]
  },
  {
   "cell_type": "markdown",
   "metadata": {
    "colab_type": "text",
    "id": "axp-Iq5cn10w"
   },
   "source": [
    "__Задание 2.1.__ Проверьте работу DAagger на всех задачах MoJoCo - укажите для какой задачи он работает лучше, чем простое клонирование. Покажите это на графиках."
   ]
  },
  {
   "cell_type": "code",
   "execution_count": null,
   "metadata": {},
   "outputs": [],
   "source": [
    "#Графическое сравнение качества работы метода DAgger и простого клонирования для всех задач MoJoCo \n",
    "#(для сред: \"Humanoid-v2\", \"Ant-v2\", \"HalfCheetah-v2\", \"Hopper-v2\", \"Reacher-v2\", \"Walker2d-v2\")"
   ]
  },
  {
   "cell_type": "code",
   "execution_count": null,
   "metadata": {
    "colab": {},
    "colab_type": "code",
    "id": "UZ8j6anyn10x"
   },
   "outputs": [
    {
     "name": "stdout",
     "output_type": "stream",
     "text": [
      "Humanoid-v2\n",
      "loading and building expert policy\n",
      "obs (1, 376) (1, 376)\n",
      "loaded and built\n",
      "mean return 641.7587960056262\n",
      "std of return 8.873301540626738\n",
      "dimension of obs : (2000, 376)\n",
      "dimension of actions : (2000, 1, 17)\n",
      "Creating window glfw\n",
      "mean return 133.11305200112366\n",
      "std of return 43.62590891789194\n"
     ]
    },
    {
     "data": {
      "image/png": "[encoded data removed]",
      "text/plain": [
       "<Figure size 432x288 with 1 Axes>"
      ]
     },
     "metadata": {
      "needs_background": "light"
     },
     "output_type": "display_data"
    },
    {
     "name": "stdout",
     "output_type": "stream",
     "text": [
      "loading and building expert policy\n",
      "obs (1, 376) (1, 376)\n",
      "loaded and built\n",
      "mean return 643.0280555413931\n",
      "std of return 7.352735820676925\n",
      "dimension of obs : (2000, 376)\n",
      "dimension of actions : (2000, 1, 17)\n",
      "mean return 289.04218534368187\n",
      "std of return 37.51611396614244\n"
     ]
    },
    {
     "data": {
      "image/png": "[encoded data removed]",
      "text/plain": [
       "<Figure size 432x288 with 1 Axes>"
      ]
     },
     "metadata": {
      "needs_background": "light"
     },
     "output_type": "display_data"
    },
    {
     "name": "stdout",
     "output_type": "stream",
     "text": [
      "Ant-v2\n",
      "loading and building expert policy\n",
      "obs (1, 111) (1, 111)\n",
      "loaded and built\n",
      "mean return 399.86086633952357\n",
      "std of return 26.50281115068089\n",
      "dimension of obs : (2000, 111)\n",
      "dimension of actions : (2000, 1, 8)\n"
     ]
    }
   ],
   "source": [
    "env_names=[\"Humanoid-v2\", \"Ant-v2\", \"HalfCheetah-v2\", \"Hopper-v2\", \"Reacher-v2\", \"Walker2d-v2\"]\n",
    "\n",
    "# Обучение моделей и построение графиков для каждой из сред\n",
    "for en in env_names:\n",
    "    print(en)\n",
    "    \n",
    "    # DAgger\n",
    "    model_vars = gen_data_use_model(en)\n",
    "    dagger_res = check_work_draw(model_vars[0], model_vars[1])\n",
    "    plt.title(en+\": Dagger\")\n",
    "    plt.plot(dagger_res)\n",
    "    plt.show()\n",
    "    \n",
    "    # Клонирование\n",
    "    env_var = apply_env(env_name1)\n",
    "    clone_res = use_model(env = env_var1[0], policy_fn = env_var1[1])\n",
    "    plt.title(en+\": Clone\")\n",
    "    plt.plot(clone_res[0], clone_res[1])\n",
    "    plt.show()"
   ]
  },
  {
   "cell_type": "code",
   "execution_count": null,
   "metadata": {},
   "outputs": [],
   "source": [
    "# По построенным графикам видно, что DАgger отработал существенно лучше клонирования лишь в среде \"HalfCheetah-v2\""
   ]
  }
 ],
 "metadata": {
  "colab": {
   "name": "Copy of hw1_imitation.ipynb",
   "provenance": [],
   "version": "0.3.2"
  },
  "kernelspec": {
   "display_name": "Python 3",
   "language": "python",
   "name": "python3"
  },
  "language_info": {
   "codemirror_mode": {
    "name": "ipython",
    "version": 3
   },
   "file_extension": ".py",
   "mimetype": "text/x-python",
   "name": "python",
   "nbconvert_exporter": "python",
   "pygments_lexer": "ipython3",
   "version": "3.7.1"
  }
 },
 "nbformat": 4,
 "nbformat_minor": 1
}
