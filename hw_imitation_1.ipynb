{
 "cells": [
  {
   "cell_type": "markdown",
   "metadata": {},
   "source": [
    "# ДЗ1 - имитационное обучение\n",
    "Крайний срок сдачи - 20.02.2019 23:59."
   ]
  },
  {
   "cell_type": "markdown",
   "metadata": {},
   "source": [
    "***\n",
    "Задача будет заключаться в том, чтобы провести эксперименты с имитационным обучением: смотреть, что такое клонирование поведеня и разобраться с алгоритмом DAgger.\n",
    "Вместо человека-демонстранта демонстрации будут даваться специальной предобученной \"экспертной\" стартегией. Ваша задача будет заключаться в реализации алгоритма клонирования и DAgger, сравнения их произвоодительости на нескольких простых задачах управления из пакета OpenAI Gym. Ваше решение в виде Jupyter тетрадки *с комментариями* нужно загрузить по [ссылке](https://www.dropbox.com/request/uNq18mDY284JdI7o5KgJ) с шаблоном имени \"Фамилия>\\_ИАД<номер группы>.ipynb\", например Панов_ИАД1.ipynb. Указывать ту группу, которую вы посещаете на семинарах.\n",
    "\n",
    "__Будьте винимательны!__ В заготовках кода ниже могут быть неточности! Их правка входит в задачу выполнения ДЗ! Как минимум, вам нужно дописывать строчик кода ниже пометок __Ваш код здесь__."
   ]
  },
  {
   "cell_type": "markdown",
   "metadata": {},
   "source": [
    "## Требования:\n",
    "### 1. __TensorFlow:__\n",
    "Инструкции-напоминания по установке здесь - https://www.tensorflow.org/get_started/os_setup. GPU не будет требоваться для выполнения ДЗ.\n",
    "### 2. __OpenAI Gym:__  \n",
    "Напоминание-инструкции по OpenAI Gym - https://gym.openai.com/docs. Используйте версию 0.10.5.\n",
    "### 3. __MuJoCo:__<br>\n",
    "Будем использовать набор симуляционных сред MuJoCo.  Загружайте версию 1.50 с http://mujoco.org/,  и версию  1.50.1.56  с https://github.com/openai/mujoco-py/. Для активации доступа можно испоьзовать ваше университетский аккаунт -  https://www.roboti.us/license.html.\n",
    "***"
   ]
  },
  {
   "cell_type": "code",
   "execution_count": 1,
   "metadata": {},
   "outputs": [
    {
     "name": "stdout",
     "output_type": "stream",
     "text": [
      "Collecting tensorflow\n",
      "\u001b[?25l  Downloading https://files.pythonhosted.org/packages/d5/1c/3ac472009a5c54ae7ec5a3294520ca36d1908cd1e5cf3e3fd923f9b7b31f/tensorflow-1.13.1-cp37-cp37m-macosx_10_11_x86_64.whl (73.6MB)\n",
      "\u001b[K    88% |████████████████████████████▎   | 65.1MB 609kB/s eta 0:00:14    57% |██████████████████▍             | 42.2MB 367kB/s eta 0:01:26    67% |█████████████████████▋          | 49.6MB 353kB/s eta 0:01:08    68% |█████████████████████▉          | 50.2MB 454kB/s eta 0:00:52    79% |█████████████████████████▋      | 58.8MB 263kB/s eta 0:00:57"
     ]
    }
   ],
   "source": [
    "!pip install tensorflow\n",
    "!pip3 install -U 'mujoco-py<1.50.2,>=1.50.1'\n",
    "!pip install glfw3\n",
    "!pip install av"
   ]
  },
  {
   "cell_type": "markdown",
   "metadata": {},
   "source": [
    "Импортируем все необходимое:"
   ]
  },
  {
   "cell_type": "code",
   "execution_count": 1,
   "metadata": {},
   "outputs": [
    {
     "name": "stdout",
     "output_type": "stream",
     "text": [
      "TensorFlow version : 1.12.0\n",
      "Gym version : 0.10.9\n"
     ]
    }
   ],
   "source": [
    "import os\n",
    "import pickle\n",
    "import tensorflow as tf\n",
    "print(\"TensorFlow version :\",tf.__version__)\n",
    "\n",
    "import numpy as np\n",
    "import tf_util\n",
    "import gym\n",
    "print(\"Gym version :\",gym.__version__)\n",
    "\n",
    "import glfw\n",
    "import load_policy"
   ]
  },
  {
   "cell_type": "markdown",
   "metadata": {},
   "source": [
    "***\n",
    "## Собираем статистику"
   ]
  },
  {
   "cell_type": "markdown",
   "metadata": {},
   "source": [
    " Генерируем статистику (roll-outs) по заданной экспертной стратегии в 3 шага:\n",
    " 1. Загружаем стратегию из файла и инициализируем окружение.\n",
    " 2. Начинаем сессию tensorflow.\n",
    " 3. В рамках сессии собираем данные: до конца эпизода в цикле выбираем экспертное действие, применяем его и сохраняем результаты."
   ]
  },
  {
   "cell_type": "code",
   "execution_count": 2,
   "metadata": {},
   "outputs": [
    {
     "name": "stdout",
     "output_type": "stream",
     "text": [
      "loading and building expert policy\n",
      "obs (1, 17) (1, 17)\n",
      "loaded and built\n"
     ]
    }
   ],
   "source": [
    "#choose environment (Uncomment choosed one)\n",
    "# env_name=\"Humanoid-v2\"\n",
    "# env_name=\"Ant-v2\"\n",
    "# env_name=\"HalfCheetah-v2\"\n",
    "# env_name=\"Hopper-v2\"\n",
    "# env_name=\"Reacher-v2\"\n",
    "env_name=\"Walker2d-v2\"\n",
    "\n",
    "# choose expert policy file from /expert file\n",
    "expert_policy_file=\"experts/\"+env_name+\".pkl\"\n",
    "\n",
    "# load the policy\n",
    "print('loading and building expert policy')\n",
    "policy_fn = load_policy.load_policy(expert_policy_file)\n",
    "print('loaded and built')\n",
    "\n",
    "# make the environment\n",
    "env = gym.make(env_name)\n",
    "\n",
    "# function to generate rollouts from the expert policies \n",
    "def generate_rollouts(num_rollouts,max_steps,render=False):\n",
    "    \n",
    "    # initialize tensoflow session (tf stuff)\n",
    "    with tf.Session():\n",
    "        tf_util.initialize()\n",
    "\n",
    "        # collect rollouts\n",
    "        # firstly, define the arrays\n",
    "        returns = []\n",
    "        observations = []\n",
    "        actions = []\n",
    "\n",
    "        # loop to collect data\n",
    "        for i in range(num_rollouts):\n",
    "            #number of iteration (episode)\n",
    "            #print('iter', i)\n",
    "            # parameters to initial values\n",
    "            obs = env.reset()\n",
    "            done = False\n",
    "            totalr = 0.\n",
    "            steps = 0\n",
    "            # loop until the end of the episode\n",
    "            while not done:\n",
    "                # choose an action depending on the observation\n",
    "                action = policy_fn(obs[None,:])\n",
    "                # append sample to arrays\n",
    "                observations.append(obs)\n",
    "                actions.append(action)\n",
    "                # apply the action on the environment\n",
    "                obs, r, done, _ = env.step(action)\n",
    "                # calculate the total reward\n",
    "                totalr += r\n",
    "                steps += 1\n",
    "                # render the environment\n",
    "                if render==True:\n",
    "                    env.render()\n",
    "                #if steps % 100 == 0: print(\"%i/%i\"%(steps, max_steps))\n",
    "                if steps >= max_steps:\n",
    "                    break\n",
    "            # append the total reward\n",
    "            returns.append(totalr)\n",
    "        env.close()\n",
    "        \n",
    "        # print the reward information\n",
    "        #print('returns', returns)\n",
    "        print('mean return', np.mean(returns))\n",
    "        print('std of return', np.std(returns))\n",
    "\n",
    "        expert_data = {'observations': np.array(observations),'actions': np.array(actions)}\n",
    "            \n",
    "        return expert_data"
   ]
  },
  {
   "cell_type": "markdown",
   "metadata": {},
   "source": [
    "Тестируем реализованную функцию: num_rollouts=4,max_steps=100,render=True"
   ]
  },
  {
   "cell_type": "markdown",
   "metadata": {},
   "source": [
    "Notes:\n",
    "- If the camera doesn't track the agent, prss __Tab__ to change the viewpoint\n",
    "- In some cases the jupyter notebok kernel will crash if you close the rendering window, __don't close the windows until finishing the execution of the whole notebook.__"
   ]
  },
  {
   "cell_type": "code",
   "execution_count": 3,
   "metadata": {
    "scrolled": true
   },
   "outputs": [
    {
     "name": "stdout",
     "output_type": "stream",
     "text": [
      "WARNING:tensorflow:From /Users/zeruk/prog/university/minor/year2/hw1/tf_util.py:91: all_variables (from tensorflow.python.ops.variables) is deprecated and will be removed after 2017-03-02.\n",
      "Instructions for updating:\n",
      "Please use tf.global_variables instead.\n",
      "WARNING:tensorflow:From /Library/Frameworks/Python.framework/Versions/3.6/lib/python3.6/site-packages/tensorflow/python/util/tf_should_use.py:189: initialize_variables (from tensorflow.python.ops.variables) is deprecated and will be removed after 2017-03-02.\n",
      "Instructions for updating:\n",
      "Use `tf.variables_initializer` instead.\n",
      "mean return 222.34014287296804\n",
      "std of return 1.2084148843760845\n"
     ]
    }
   ],
   "source": [
    "generate_rollouts(num_rollouts=4,max_steps=100,render=False);"
   ]
  },
  {
   "cell_type": "code",
   "execution_count": 4,
   "metadata": {},
   "outputs": [],
   "source": [
    "# env.env.close()\n",
    "# try:\n",
    "#     del env\n",
    "#     print('deleted')\n",
    "# except ImportError:\n",
    "#     print"
   ]
  },
  {
   "cell_type": "markdown",
   "metadata": {},
   "source": [
    "***\n",
    "## 1. Клонирование поведения"
   ]
  },
  {
   "cell_type": "markdown",
   "metadata": {},
   "source": [
    "Клонирование поведения (Behavioural cloning, BC) - метод, с помощью когорого компьютерная программа обучается воспроизводить действия эксперта (человека). Действия эксперта записываются, а затем эта статистика используется как входные данные для алгоритма обучения. Этот алгоритм в результате формирует последовательность действий, по которым воспроизводится поведение эксперта."
   ]
  },
  {
   "cell_type": "markdown",
   "metadata": {},
   "source": [
    "Будем использовать стандартное обучение с учителем и использовать нейронную сеть для этого."
   ]
  },
  {
   "cell_type": "markdown",
   "metadata": {},
   "source": [
    "Кроме конструктора, вам нужно дореализовать метод __train__ класса __BC_Model__:"
   ]
  },
  {
   "cell_type": "code",
   "execution_count": 5,
   "metadata": {},
   "outputs": [],
   "source": [
    "from sklearn.utils import shuffle\n",
    "\n",
    "class BC_Model(object):\n",
    "    def __init__(self, input_data, output_data, batch_size = 64):\n",
    "        \n",
    "        # define tensorflow session\n",
    "        self.sess = tf.Session()\n",
    "        # input and output data , and their shapes\n",
    "        self.batch_size = batch_size\n",
    "        self.input_data = input_data\n",
    "        self.output_data = np.reshape(output_data, (output_data.shape[0], output_data.shape[2]))\n",
    "        self.input_shape = [self.batch_size, self.input_data.shape[-1]]\n",
    "        self.output_shape = [self.batch_size, self.output_data.shape[-1]]\n",
    "        \n",
    "        # placeholders for the neural network (input, model output and the expert output)\n",
    "        self.input_placeholder = tf.placeholder(tf.float32, shape = self.input_shape)\n",
    "        self.output_placeholder_expert = tf.placeholder(tf.float32, shape = self.output_shape)\n",
    "        self.output_placeholder_model = self.build_model(self.input_placeholder)\n",
    "        \n",
    "        # the loss function Mean squared error, (L2 stands for Least Square Errors)\n",
    "        ### Ваш код здесь - нужно добавить функцию потерь l2_loss ###\n",
    "        \n",
    "        self.loss = tf.nn.l2_loss(self.output_placeholder_model-self.output_placeholder_expert)\n",
    "        \n",
    "\n",
    "    def build_model(self, input_placeholder):\n",
    "        # build the neural network  (you can try another architecture)\n",
    "        ### Ваш код здесь - нужно реализовать свою архитектуру ###\n",
    "        x = tf.layers.Dense(200)(input_placeholder)\n",
    "        x = tf.layers.Dense(150, activation=tf.nn.sigmoid)(x)\n",
    "        x = tf.layers.Dense(100)(x)\n",
    "        x = tf.layers.Dense(self.output_data.shape[1])(x)\n",
    "        \n",
    "        return x\n",
    "\n",
    "    def train(self, epochs = 50, train_data = None, test_data = None):\n",
    "        # check train and test data\n",
    "        if train_data is None and test_data is None :\n",
    "            # split the input data to train and test if test and train data are not given\n",
    "            train_data, test_data = shuffle(self.input_data, self.output_data, random_state = 0)\n",
    "        else:\n",
    "            #reshape test data\n",
    "            test_data = np.reshape(test_data, (test_data.shape[0], test_data.shape[2]))\n",
    "        \n",
    "        # using Adam optimizer\n",
    "        optimizer = tf.train.AdamOptimizer().minimize(self.loss)\n",
    "        # define a saver\n",
    "        saver = tf.train.Saver()\n",
    "        \n",
    "        # number of batches\n",
    "        batch_idxs = len(train_data) // self.batch_size\n",
    "\n",
    "        # define a writer ()\n",
    "        writer = tf.summary.FileWriter(\"exp\")\n",
    "        \n",
    "        # add the graph (The model and all the variables) to the writer\n",
    "        writer.add_graph(self.sess.graph)\n",
    "\n",
    "        #initialize network variables\n",
    "        init_op = tf.global_variables_initializer()\n",
    "        self.sess.run(init_op)\n",
    "\n",
    "        #loop over epochs\n",
    "        for epoch in range(epochs):\n",
    "            #for each epoch loop over batches\n",
    "            for idx in range(batch_idxs):\n",
    "                # take a batch from training and test data\n",
    "                batch_train = train_data[idx * self.batch_size : (idx + 1) * self.batch_size]\n",
    "                batch_value = test_data[idx * self.batch_size : (idx + 1) * self.batch_size]\n",
    "                # run the optimizer to reduce the loss (we train the model to give us the same output for specific input)\n",
    "                feed_train = {self.input_placeholder : batch_train, self.output_placeholder_expert : batch_value}\n",
    "                self.sess.run(optimizer, feed_dict = feed_train)\n",
    "                    \n",
    "        # save the model\n",
    "        saver.save(self.sess, \"exp\" + \"/behavior_cloning_model\")\n",
    "\n",
    "    def sample(self, input):\n",
    "        #sample an action for a specified input\n",
    "        output = self.sess.run(self.output_placeholder_model, feed_dict = {self.input_placeholder : np.repeat(input[None, :], self.batch_size, axis = 0)})\n",
    "        return output[0]"
   ]
  },
  {
   "cell_type": "markdown",
   "metadata": {},
   "source": [
    "### Обучем модель на экспертных данных"
   ]
  },
  {
   "cell_type": "code",
   "execution_count": 6,
   "metadata": {},
   "outputs": [
    {
     "name": "stdout",
     "output_type": "stream",
     "text": [
      "mean return 221.68345206715293\n",
      "std of return 1.3643746709500577\n",
      "dimension of obs : (2000, 17)\n",
      "dimension of actions : (2000, 1, 6)\n"
     ]
    }
   ],
   "source": [
    "# generate expert data\n",
    "data=generate_rollouts(num_rollouts=20,max_steps=100,render=False);\n",
    "x = data['observations']\n",
    "y = data['actions']\n",
    "print ('dimension of obs :', x.shape)\n",
    "print('dimension of actions :', y.shape)\n",
    "\n",
    "# shuffle data\n",
    "x,y = shuffle(x,y)\n",
    "\n",
    "# create an object from BC_Model class, and train it\n",
    "cloner=BC_Model(x,y)\n",
    "cloner.train()"
   ]
  },
  {
   "cell_type": "markdown",
   "metadata": {},
   "source": [
    "### Испытываем модель"
   ]
  },
  {
   "cell_type": "code",
   "execution_count": 7,
   "metadata": {},
   "outputs": [
    {
     "name": "stdout",
     "output_type": "stream",
     "text": [
      "mean return 214.84626891951103\n",
      "std of return 57.0332280978024\n"
     ]
    }
   ],
   "source": [
    "\n",
    "num_eval_rollouts=20\n",
    "# loop over runouts\n",
    "returns=[]\n",
    "for i in range(num_eval_rollouts):\n",
    "    # reset variables in each iteration\n",
    "    totalr=0\n",
    "    done=False\n",
    "    obs=env.reset()\n",
    "    # loop until the end of the episode\n",
    "    while not done:\n",
    "        # get an action from the trained model (output for specific observation as input)\n",
    "        action=cloner.sample(obs)\n",
    "        # implement the action\n",
    "        obs,r,done,_=env.step(action)\n",
    "#         env.render()\n",
    "        totalr+=r\n",
    "    returns.append(totalr)\n",
    "print('mean return', np.mean(returns))\n",
    "print('std of return', np.std(returns))"
   ]
  },
  {
   "cell_type": "code",
   "execution_count": 8,
   "metadata": {},
   "outputs": [
    {
     "data": {
      "image/png": "[encoded data removed]",
      "text/plain": [
       "<Figure size 432x288 with 1 Axes>"
      ]
     },
     "metadata": {
      "needs_background": "light"
     },
     "output_type": "display_data"
    }
   ],
   "source": [
    "import matplotlib.pyplot as plt\n",
    "%matplotlib inline\n",
    "\n",
    "plt.title(\"sadas\")\n",
    "plt.plot(range(num_eval_rollouts), returns)\n",
    "plt.show()"
   ]
  },
  {
   "cell_type": "markdown",
   "metadata": {},
   "source": [
    "__Задание 1.1.__ Вам необходимо обучить модель на любых трех окружениях MoJoCo. Построить графики отдачи (totalr) в зависимости от количества набранной статистики (num_rollouts) для обучения."
   ]
  },
  {
   "cell_type": "code",
   "execution_count": 10,
   "metadata": {
    "scrolled": true
   },
   "outputs": [
    {
     "name": "stdout",
     "output_type": "stream",
     "text": [
      "loading and building expert policy\n",
      "obs (1, 376) (1, 376)\n",
      "loaded and built experts/Humanoid-v2.pkl\n",
      "n_rollouts:  1\n",
      "mean return 1085.4505645304287\n",
      "std of return 0.0\n",
      "n_rollouts:  1\n",
      "mean return 1109.6031641158247\n",
      "std of return 0.0\n",
      "n_rollouts:  3\n",
      "mean return 1103.151614277388\n",
      "std of return 2.720161097904956\n",
      "n_rollouts:  7\n",
      "mean return 1104.4885983767472\n",
      "std of return 13.178342958887653\n",
      "n_rollouts:  15\n",
      "mean return 1097.812097629595\n",
      "std of return 23.16369710113356\n",
      "n_rollouts:  31\n",
      "mean return 1111.0274205924275\n",
      "std of return 17.274408651111678\n",
      "n_rollouts:  62\n",
      "mean return 1111.43263964236\n",
      "std of return 15.64352190762819\n",
      "n_rollouts:  125\n",
      "mean return 1112.6920267120943\n",
      "std of return 14.951837873575505\n",
      "n_rollouts:  250\n",
      "mean return 1113.2204893747128\n",
      "std of return 16.251891032936506\n",
      "n_rollouts:  499\n",
      "mean return 1111.0233923442645\n",
      "std of return 31.021324908553716\n",
      "loading and building expert policy\n",
      "obs (1, 111) (1, 111)\n",
      "loaded and built experts/Ant-v2.pkl\n",
      "n_rollouts:  1\n",
      "mean return 602.6368502434453\n",
      "std of return 0.0\n",
      "n_rollouts:  1\n",
      "mean return 662.5572527000643\n",
      "std of return 0.0\n",
      "n_rollouts:  3\n",
      "mean return 629.8752833833224\n",
      "std of return 15.884954066050565\n",
      "n_rollouts:  7\n",
      "mean return 687.2226748203841\n",
      "std of return 49.00202440649687\n",
      "n_rollouts:  15\n",
      "mean return 652.8147004984389\n",
      "std of return 28.392522341646124\n",
      "n_rollouts:  31\n",
      "mean return 655.9601543714867\n",
      "std of return 41.33572749709039\n",
      "n_rollouts:  62\n",
      "mean return 656.0424918318088\n",
      "std of return 36.85206141047582\n",
      "n_rollouts:  125\n",
      "mean return 655.6298704593092\n",
      "std of return 36.52866914145095\n",
      "n_rollouts:  250\n",
      "mean return 653.3005788022476\n",
      "std of return 54.72222487657162\n",
      "n_rollouts:  499\n",
      "mean return 661.0154389929924\n",
      "std of return 41.90066718732913\n",
      "loading and building expert policy\n",
      "obs (1, 11) (1, 11)\n",
      "loaded and built experts/Reacher-v2.pkl\n",
      "n_rollouts:  1\n",
      "mean return -6.373687416542421\n",
      "std of return 0.0\n",
      "n_rollouts:  1\n",
      "mean return -3.451130765646292\n",
      "std of return 0.0\n",
      "n_rollouts:  3\n",
      "mean return -1.9403709350806329\n",
      "std of return 0.7813439772419231\n",
      "n_rollouts:  7\n",
      "mean return -4.360463935612265\n",
      "std of return 2.473428728104761\n",
      "n_rollouts:  15\n",
      "mean return -3.9302349446970095\n",
      "std of return 1.5152983120320154\n",
      "n_rollouts:  31\n",
      "mean return -3.515104883740037\n",
      "std of return 1.9006807616540982\n",
      "n_rollouts:  62\n",
      "mean return -4.129914314929414\n",
      "std of return 1.7615747078819142\n",
      "n_rollouts:  125\n",
      "mean return -3.7670732929185973\n",
      "std of return 1.6961612277838494\n",
      "n_rollouts:  250\n",
      "mean return -3.931588813741405\n",
      "std of return 1.5788067241448995\n",
      "n_rollouts:  499\n",
      "mean return -3.974696885289565\n",
      "std of return 1.7074275572385285\n"
     ]
    }
   ],
   "source": [
    "# env_name=\"Humanoid-v2\"\n",
    "# env_name=\"Ant-v2\"\n",
    "# env_name=\"HalfCheetah-v2\"\n",
    "# env_name=\"Hopper-v2\"\n",
    "# env_name=\"Reacher-v2\"\n",
    "# env_name=\"Walker2d-v2\"\n",
    "\n",
    "n_rollouts = 500\n",
    "test_n_rollouts = 10\n",
    "rewards = {}\n",
    "\n",
    "for env_name in [\"Humanoid-v2\", \"Ant-v2\", \"Reacher-v2\"]:\n",
    "    expert_policy_file=\"experts/\"+env_name+\".pkl\"\n",
    "    print('loading and building expert policy')\n",
    "    policy_fn = load_policy.load_policy(expert_policy_file)\n",
    "    print('loaded and built', expert_policy_file)\n",
    "\n",
    "    rewards[env_name] = []\n",
    "    env = gym.make(env_name)\n",
    "    for n_rolls in np.geomspace(1, n_rollouts, 10):\n",
    "        print(\"n_rollouts: \", int(n_rolls))\n",
    "        data = generate_rollouts(num_rollouts=int(n_rolls),max_steps=150,render=False)\n",
    "        x = data['observations']\n",
    "        y = data['actions']\n",
    "        x,y = shuffle(x,y)\n",
    "\n",
    "        cloner=BC_Model(x,y)\n",
    "        cloner.train()\n",
    "        \n",
    "        returns=[]\n",
    "        for i in range(test_n_rollouts):\n",
    "            totalr=0\n",
    "            done=False\n",
    "            obs=env.reset()\n",
    "            while not done:\n",
    "                action=cloner.sample(obs)\n",
    "                obs,r,done,_=env.step(action)\n",
    "#                 env.render()\n",
    "                totalr+=r\n",
    "            returns.append(totalr)\n",
    "        rewards[env_name].append(np.mean(returns))\n",
    "#     plt.title(env_name)\n",
    "#     plt.plot\n",
    "        \n",
    "# For env in [env1,env2,env3]:\n",
    "# ... Load env \n",
    "# ... For n in num rollouts: \n",
    "# ....... Generate data(n)\n",
    "# ....... Build model \n",
    "# ....... Train model \n",
    "# ... Plt. plot "
   ]
  },
  {
   "cell_type": "code",
   "execution_count": 12,
   "metadata": {},
   "outputs": [
    {
     "data": {
      "image/png": "[encoded data removed]",
      "text/plain": [
       "<Figure size 432x288 with 1 Axes>"
      ]
     },
     "metadata": {
      "needs_background": "light"
     },
     "output_type": "display_data"
    },
    {
     "data": {
      "image/png": "[encoded data removed]",
      "text/plain": [
       "<Figure size 432x288 with 1 Axes>"
      ]
     },
     "metadata": {
      "needs_background": "light"
     },
     "output_type": "display_data"
    },
    {
     "data": {
      "image/png": "[encoded data removed]",
      "text/plain": [
       "<Figure size 432x288 with 1 Axes>"
      ]
     },
     "metadata": {
      "needs_background": "light"
     },
     "output_type": "display_data"
    }
   ],
   "source": [
    "for env_name in rewards.keys():\n",
    "    plt.title(env_name)\n",
    "    plt.plot(np.geomspace(1, n_rollouts, 10), rewards[env_name])\n",
    "    plt.show()"
   ]
  },
  {
   "cell_type": "markdown",
   "metadata": {},
   "source": [
    "__Задание 1.2.__ Выберите один из гиперапараметров вашей модели, которые влияют на качество обучения (количество эпох, количество слоев и т.п.). Для одного из окружений постройте график влияния значения этого параметра на качество обучения (totalr)."
   ]
  },
  {
   "cell_type": "code",
   "execution_count": 17,
   "metadata": {
    "scrolled": true
   },
   "outputs": [
    {
     "name": "stdout",
     "output_type": "stream",
     "text": [
      "loading and building expert policy\n",
      "obs (1, 376) (1, 376)\n",
      "loaded and built experts/Humanoid-v2.pkl\n",
      "n_epochs:  1\n",
      "mean return 1112.505926599606\n",
      "std of return 13.50375645896482\n",
      "n_epochs:  15\n",
      "mean return 1110.808186441071\n",
      "std of return 16.353468091191438\n",
      "n_epochs:  29\n",
      "mean return 1110.3138708031772\n",
      "std of return 13.652946924798036\n",
      "n_epochs:  43\n",
      "mean return 1110.4480315470353\n",
      "std of return 18.444821740625272\n",
      "n_epochs:  57\n",
      "mean return 1115.0116671512296\n",
      "std of return 18.806843619020583\n",
      "n_epochs:  71\n",
      "mean return 1111.4896092945194\n",
      "std of return 19.95487449904722\n",
      "n_epochs:  85\n",
      "mean return 1110.4202456713317\n",
      "std of return 14.082955257521979\n",
      "n_epochs:  100\n",
      "mean return 1114.2759995104086\n",
      "std of return 16.413415329752056\n"
     ]
    }
   ],
   "source": [
    "test_n_rollouts = 10\n",
    "\n",
    "for env_name in [\"Humanoid-v2\"]:\n",
    "    expert_policy_file=\"experts/\"+env_name+\".pkl\"\n",
    "    print('loading and building expert policy')\n",
    "    policy_fn = load_policy.load_policy(expert_policy_file)\n",
    "    print('loaded and built', expert_policy_file)\n",
    "\n",
    "    rewards = []\n",
    "    env = gym.make(env_name)\n",
    "    n_rolls = 30\n",
    "    for n_epochs in np.linspace(1, 100, 8):\n",
    "        print(\"n_epochs: \", int(n_epochs))\n",
    "        data = generate_rollouts(num_rollouts=int(n_rolls),max_steps=150,render=False)\n",
    "        x = data['observations']\n",
    "        y = data['actions']\n",
    "        x,y = shuffle(x,y)\n",
    "\n",
    "        cloner=BC_Model(x,y)\n",
    "        cloner.train(epochs=int(n_epochs))\n",
    "        \n",
    "        returns=[]\n",
    "        for i in range(test_n_rollouts):\n",
    "            totalr=0\n",
    "            done=False\n",
    "            obs=env.reset()\n",
    "            while not done:\n",
    "                action=cloner.sample(obs)\n",
    "                obs,r,done,_=env.step(action)\n",
    "#                 env.render()\n",
    "                totalr+=r\n",
    "            returns.append(totalr)\n",
    "        rewards.append(np.mean(returns))"
   ]
  },
  {
   "cell_type": "code",
   "execution_count": 20,
   "metadata": {},
   "outputs": [
    {
     "data": {
      "image/png": "[encoded data removed]",
      "text/plain": [
       "<Figure size 432x288 with 1 Axes>"
      ]
     },
     "metadata": {
      "needs_background": "light"
     },
     "output_type": "display_data"
    }
   ],
   "source": [
    "plt.title(\"Humanoid-v2\")\n",
    "plt.plot(np.linspace(1, 100, 8), rewards)\n",
    "plt.show()"
   ]
  },
  {
   "cell_type": "markdown",
   "metadata": {},
   "source": [
    "***\n",
    "## 2. DAgger Algorithm"
   ]
  },
  {
   "cell_type": "markdown",
   "metadata": {},
   "source": [
    "Цель алгоритма DAgger (data Aggregation) - собрать статистику обучаемой модели, вместо экспертных данных. \n",
    "- Вначале мы тренируем BC_Model на собранных экспертных данных.\n",
    "- Запускаем модель на окружениие, собираем наблюдения.\n",
    "- Затем мы просим эксперта (человека) отметить, какие действия нужно совершать в полученных наблюдениях (по сути используем __policy_fn__).\n",
    "- Создаем новую коллекцию помеченных и экспертных данных.\n",
    "- Потворяем."
   ]
  },
  {
   "cell_type": "markdown",
   "metadata": {},
   "source": [
    "![image.png](attachment:image.png)"
   ]
  },
  {
   "cell_type": "code",
   "execution_count": 19,
   "metadata": {},
   "outputs": [
    {
     "name": "stderr",
     "output_type": "stream",
     "text": [
      "100%|██████████| 10/10 [05:02<00:00, 30.75s/it]\n"
     ]
    }
   ],
   "source": [
    "from tqdm import tqdm\n",
    "\n",
    "with tf.Session():\n",
    "    DAgger_iter=10\n",
    "    render=False\n",
    "    # DAgger loop\n",
    "    for i in tqdm(range(DAgger_iter)):\n",
    "        # reset in each iteration\n",
    "        new_obs = []\n",
    "        new_actions = []\n",
    "        obs = env.reset()\n",
    "        done = False\n",
    "        # collect data from model and expert\n",
    "        while not done:\n",
    "            # get an action from the model\n",
    "            ### Ваш код здесь - испольузуем оубченную модель ###\n",
    "            action = cloner.sample(obs)\n",
    "            \n",
    "            obs, _, done, _ = env.step(action)\n",
    "            if render:\n",
    "                env.render()\n",
    "            # get the expert action for the same input\n",
    "            ### Ваш код здесь - испольузуем olicy_fn!! ###\n",
    "            corrected_action = policy_fn(obs[None,:])\n",
    "            \n",
    "            # append the observation and expert action to the data set\n",
    "            new_obs.append(obs)\n",
    "            new_actions.append(corrected_action)\n",
    "        # re-order the data\n",
    "        x = np.concatenate((x, obs[None, :]), axis = 0)\n",
    "        y = np.concatenate((y, corrected_action[None, :]), axis = 0)\n",
    "        # train the model on the collected data\n",
    "        ### Ваш код здесь - дообучаем модель ###\n",
    "        cloner.train(300, x, y)\n",
    "        "
   ]
  },
  {
   "cell_type": "markdown",
   "metadata": {},
   "source": [
    "### Проверяем работу"
   ]
  },
  {
   "cell_type": "code",
   "execution_count": 21,
   "metadata": {},
   "outputs": [
    {
     "name": "stdout",
     "output_type": "stream",
     "text": [
      "Creating window glfw\n",
      "mean return 835.5018221970622\n",
      "std of return 289.2393521349761\n"
     ]
    }
   ],
   "source": [
    "num_eval_rollouts=20\n",
    "# loop over runouts\n",
    "returns=[]\n",
    "for i in range(num_eval_rollouts):\n",
    "    # reset variables in each iteration\n",
    "    totalr=0\n",
    "    done=False\n",
    "    obs=env.reset()\n",
    "    # loop until the end of the episode\n",
    "    while not done:\n",
    "        # get an action from the trained model (output for specific observation as input)\n",
    "        action=cloner.sample(obs)\n",
    "        # implement the action\n",
    "        obs,r,done,_=env.step(action)\n",
    "#         env.render()\n",
    "        totalr+=r\n",
    "    returns.append(totalr)\n",
    "print('mean return', np.mean(returns))\n",
    "print('std of return', np.std(returns))"
   ]
  },
  {
   "cell_type": "markdown",
   "metadata": {},
   "source": [
    "__Задание 2.1.__ Проверьте работу DAagger на всех задачах MoJoCo - укажите для какой задачи он работает лучше, чем простое клонирование. Покажите это на графиках."
   ]
  },
  {
   "cell_type": "code",
   "execution_count": 23,
   "metadata": {
    "scrolled": true
   },
   "outputs": [
    {
     "name": "stdout",
     "output_type": "stream",
     "text": [
      "obs (1, 376) (1, 376)\n",
      "loaded and built experts/Humanoid-v2.pkl\n",
      "mean return 1104.5461772551075\n",
      "std of return 77.28406574343451\n",
      "test clone\n"
     ]
    },
    {
     "name": "stderr",
     "output_type": "stream",
     "text": [
      "\n",
      "  0%|          | 0/4 [00:00<?, ?it/s]\u001b[A"
     ]
    },
    {
     "name": "stdout",
     "output_type": "stream",
     "text": [
      "train dagger\n"
     ]
    },
    {
     "name": "stderr",
     "output_type": "stream",
     "text": [
      "\n",
      " 25%|██▌       | 1/4 [01:30<04:30, 90.07s/it]\u001b[A\n",
      " 50%|█████     | 2/4 [02:59<02:59, 89.94s/it]\u001b[A\n",
      " 75%|███████▌  | 3/4 [04:31<01:30, 90.38s/it]\u001b[A\n",
      "100%|██████████| 4/4 [05:58<00:00, 89.47s/it]\u001b[A"
     ]
    },
    {
     "name": "stdout",
     "output_type": "stream",
     "text": [
      "test dagger\n",
      "obs (1, 111) (1, 111)\n",
      "loaded and built experts/Ant-v2.pkl\n",
      "mean return 660.5904152242958\n",
      "std of return 40.39759460557622\n",
      "test clone\n"
     ]
    },
    {
     "name": "stderr",
     "output_type": "stream",
     "text": [
      "\n",
      "  0%|          | 0/4 [00:00<?, ?it/s]\u001b[A"
     ]
    },
    {
     "name": "stdout",
     "output_type": "stream",
     "text": [
      "train dagger\n"
     ]
    },
    {
     "name": "stderr",
     "output_type": "stream",
     "text": [
      "\n",
      " 25%|██▌       | 1/4 [01:16<03:50, 76.86s/it]\u001b[A\n",
      " 50%|█████     | 2/4 [02:34<02:34, 77.05s/it]\u001b[A\n",
      " 75%|███████▌  | 3/4 [03:49<01:16, 76.35s/it]\u001b[A\n",
      "100%|██████████| 4/4 [05:04<00:00, 76.10s/it]\u001b[A"
     ]
    },
    {
     "name": "stdout",
     "output_type": "stream",
     "text": [
      "test dagger\n",
      "obs (1, 17) (1, 17)\n",
      "loaded and built experts/HalfCheetah-v2.pkl\n",
      "mean return 501.7236809910366\n",
      "std of return 27.212839888294013\n",
      "test clone\n"
     ]
    },
    {
     "name": "stderr",
     "output_type": "stream",
     "text": [
      "\n",
      "  0%|          | 0/4 [00:00<?, ?it/s]\u001b[A"
     ]
    },
    {
     "name": "stdout",
     "output_type": "stream",
     "text": [
      "train dagger\n"
     ]
    },
    {
     "name": "stderr",
     "output_type": "stream",
     "text": [
      "\n",
      " 25%|██▌       | 1/4 [01:07<03:21, 67.22s/it]\u001b[A\n",
      " 50%|█████     | 2/4 [02:12<02:13, 66.68s/it]\u001b[A\n",
      " 75%|███████▌  | 3/4 [03:21<01:07, 67.20s/it]\u001b[A\n",
      "100%|██████████| 4/4 [04:28<00:00, 67.12s/it]\u001b[A"
     ]
    },
    {
     "name": "stdout",
     "output_type": "stream",
     "text": [
      "test dagger\n",
      "obs (1, 11) (1, 11)\n",
      "loaded and built experts/Hopper-v2.pkl\n",
      "mean return 394.91050048302435\n",
      "std of return 1.3324727903064268\n",
      "test clone\n"
     ]
    },
    {
     "name": "stderr",
     "output_type": "stream",
     "text": [
      "\n",
      "  0%|          | 0/4 [00:00<?, ?it/s]\u001b[A"
     ]
    },
    {
     "name": "stdout",
     "output_type": "stream",
     "text": [
      "train dagger\n"
     ]
    },
    {
     "name": "stderr",
     "output_type": "stream",
     "text": [
      "\n",
      " 25%|██▌       | 1/4 [01:11<03:33, 71.31s/it]\u001b[A\n",
      " 50%|█████     | 2/4 [02:21<02:21, 70.94s/it]\u001b[A\n",
      " 75%|███████▌  | 3/4 [03:27<01:09, 69.43s/it]\u001b[A\n",
      "100%|██████████| 4/4 [04:35<00:00, 69.15s/it]\u001b[A"
     ]
    },
    {
     "name": "stdout",
     "output_type": "stream",
     "text": [
      "test dagger\n",
      "obs (1, 11) (1, 11)\n",
      "loaded and built experts/Reacher-v2.pkl\n",
      "mean return -3.8401800141113913\n",
      "std of return 1.559124550847766\n",
      "test clone\n"
     ]
    },
    {
     "name": "stderr",
     "output_type": "stream",
     "text": [
      "\n",
      "  0%|          | 0/4 [00:00<?, ?it/s]\u001b[A"
     ]
    },
    {
     "name": "stdout",
     "output_type": "stream",
     "text": [
      "train dagger\n"
     ]
    },
    {
     "name": "stderr",
     "output_type": "stream",
     "text": [
      "\n",
      " 25%|██▌       | 1/4 [00:34<01:44, 34.67s/it]\u001b[A\n",
      " 50%|█████     | 2/4 [01:07<01:08, 34.21s/it]\u001b[A\n",
      " 75%|███████▌  | 3/4 [01:41<00:34, 34.13s/it]\u001b[A\n",
      "100%|██████████| 4/4 [02:16<00:00, 34.17s/it]\u001b[A"
     ]
    },
    {
     "name": "stdout",
     "output_type": "stream",
     "text": [
      "test dagger\n",
      "obs (1, 17) (1, 17)\n",
      "loaded and built experts/Walker2d-v2.pkl\n",
      "mean return 431.85913525345285\n",
      "std of return 4.510293323265983\n",
      "test clone\n"
     ]
    },
    {
     "name": "stderr",
     "output_type": "stream",
     "text": [
      "\n",
      "  0%|          | 0/4 [00:00<?, ?it/s]\u001b[A"
     ]
    },
    {
     "name": "stdout",
     "output_type": "stream",
     "text": [
      "train dagger\n"
     ]
    },
    {
     "name": "stderr",
     "output_type": "stream",
     "text": [
      "\n",
      " 25%|██▌       | 1/4 [01:14<03:44, 74.76s/it]\u001b[A\n",
      " 50%|█████     | 2/4 [02:29<02:29, 74.61s/it]\u001b[A\n",
      " 75%|███████▌  | 3/4 [03:41<01:13, 73.91s/it]\u001b[A\n",
      "100%|██████████| 4/4 [04:53<00:00, 73.45s/it]\u001b[A"
     ]
    },
    {
     "name": "stdout",
     "output_type": "stream",
     "text": [
      "test dagger\n"
     ]
    }
   ],
   "source": [
    "env_names=[\"Humanoid-v2\", \"Ant-v2\", \"HalfCheetah-v2\", \"Hopper-v2\", \"Reacher-v2\", \"Walker2d-v2\"]\n",
    "\n",
    "n_rollouts = 30\n",
    "test_n_rollouts = 5\n",
    "DAgger_iter=4\n",
    "rewards = {}\n",
    "\n",
    "for env_name in env_names:\n",
    "    expert_policy_file=\"experts/\"+env_name+\".pkl\"\n",
    "#     print('loading and building expert policy')\n",
    "    policy_fn = load_policy.load_policy(expert_policy_file)\n",
    "    print('loaded and built', expert_policy_file)\n",
    "    \n",
    "    rewards[env_name]={}\n",
    "    rewards[env_name]['clone']=[]\n",
    "    rewards[env_name]['dagger']=[]\n",
    "    \n",
    "    env = gym.make(env_name)\n",
    "    n_rolls = 100\n",
    "    data = generate_rollouts(num_rollouts=int(n_rolls),max_steps=150,render=False)\n",
    "    x = data['observations']\n",
    "    y = data['actions']\n",
    "    x,y = shuffle(x,y)\n",
    "\n",
    "    cloner=BC_Model(x,y)\n",
    "    cloner.train()\n",
    "\n",
    "    ### test:\n",
    "    print('test clone')\n",
    "    returns=[]\n",
    "    for i in range(test_n_rollouts):\n",
    "        totalr=0\n",
    "        done=False\n",
    "        obs=env.reset()\n",
    "        while not done:\n",
    "            action=cloner.sample(obs)\n",
    "            obs,r,done,_=env.step(action)\n",
    "            totalr+=r\n",
    "        returns.append(totalr)\n",
    "    rewards[env_name]['clone'].append(np.mean(returns))\n",
    "\n",
    "    print('train dagger')\n",
    "    with tf.Session():\n",
    "        render=False\n",
    "        # DAgger loop\n",
    "        for i in tqdm(range(DAgger_iter)):\n",
    "            # reset in each iteration\n",
    "            new_obs = []\n",
    "            new_actions = []\n",
    "            obs = env.reset()\n",
    "            done = False\n",
    "            # collect data from model and expert\n",
    "            while not done:\n",
    "                # get an action from the model\n",
    "                ### Ваш код здесь - испольузуем оубченную модель ###\n",
    "                action = cloner.sample(obs)\n",
    "\n",
    "                obs, _, done, _ = env.step(action)\n",
    "                if render:\n",
    "                    env.render()\n",
    "                # get the expert action for the same input\n",
    "                ### Ваш код здесь - испольузуем olicy_fn!! ###\n",
    "                corrected_action = policy_fn(obs[None,:])\n",
    "\n",
    "                # append the observation and expert action to the data set\n",
    "                new_obs.append(obs)\n",
    "                new_actions.append(corrected_action)\n",
    "            # re-order the data\n",
    "            x = np.concatenate((x, obs[None, :]), axis = 0)\n",
    "            y = np.concatenate((y, corrected_action[None, :]), axis = 0)\n",
    "            # train the model on the collected data\n",
    "            ### Ваш код здесь - дообучаем модель ###\n",
    "            cloner.train(300, x, y)\n",
    "    print('test dagger')\n",
    "    returns=[]\n",
    "    for i in range(test_n_rollouts):\n",
    "        totalr=0\n",
    "        done=False\n",
    "        obs=env.reset()\n",
    "        while not done:\n",
    "            action=cloner.sample(obs)\n",
    "            obs,r,done,_=env.step(action)\n",
    "            totalr+=r\n",
    "        returns.append(totalr)\n",
    "    rewards[env_name]['dagger'].append(np.mean(returns))"
   ]
  },
  {
   "cell_type": "code",
   "execution_count": 32,
   "metadata": {},
   "outputs": [
    {
     "data": {
      "text/plain": [
       "Text(0, 0.5, 'reward')"
      ]
     },
     "execution_count": 32,
     "metadata": {},
     "output_type": "execute_result"
    },
    {
     "data": {
      "image/png": "[encoded data removed]",
      "text/plain": [
       "<Figure size 432x288 with 1 Axes>"
      ]
     },
     "metadata": {
      "needs_background": "light"
     },
     "output_type": "display_data"
    }
   ],
   "source": [
    "clones = []\n",
    "daggers = []\n",
    "for env_name in env_names:\n",
    "    clones.append(rewards[env_name]['clone'][0])\n",
    "    daggers.append(rewards[env_name]['dagger'][0])\n",
    "\n",
    "plt.title(\"Clones VS daggers\")\n",
    "plt.plot(range(len(env_names)), clones, label='clone')\n",
    "plt.plot(range(len(env_names)), daggers, label='dagger')\n",
    "plt.legend()\n",
    "plt.xlabel(\"env\")\n",
    "plt.xticks(range(6), tuple(env_names), rotation=45)\n",
    "plt.ylabel(\"reward\")\n",
    "# rewards"
   ]
  },
  {
   "cell_type": "markdown",
   "metadata": {},
   "source": [
    "## Вывод\n",
    "Только для окружения Humanoid-v2 в данных условиях склонированная модель работает лучше, чем дообученная при помощи dataAggregation. Во всех остальных случаях алгоритм с DAgger работает лучше, что особенно заметно на окружении Walker2d-v2\n",
    "\n",
    "#### Прошу прощения за задержку, совсем не хватает времени в течении этой недели, буду премного благодарен, если засчитаете сданным в день дедлайна, а не после :)"
   ]
  },
  {
   "cell_type": "code",
   "execution_count": null,
   "metadata": {},
   "outputs": [],
   "source": []
  }
 ],
 "metadata": {
  "kernelspec": {
   "display_name": "Python 3",
   "language": "python",
   "name": "python3"
  },
  "language_info": {
   "codemirror_mode": {
    "name": "ipython",
    "version": 3
   },
   "file_extension": ".py",
   "mimetype": "text/x-python",
   "name": "python",
   "nbconvert_exporter": "python",
   "pygments_lexer": "ipython3",
   "version": "3.7.1"
  }
 },
 "nbformat": 4,
 "nbformat_minor": 2
}
